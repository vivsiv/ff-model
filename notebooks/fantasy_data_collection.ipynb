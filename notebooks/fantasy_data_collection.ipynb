{
 "cells": [
  {
   "cell_type": "code",
   "execution_count": null,
   "metadata": {},
   "outputs": [],
   "source": [
    "from sklearn.preprocessing import StandardScaler\n",
    "from sklearn.impute import SimpleImputer\n",
    "from sklearn.pipeline import Pipeline\n",
    "from sklearn.linear_model import LinearRegression\n",
    "from sklearn.model_selection import train_test_split\n",
    "\n",
    "import sys\n",
    "sys.path.append('../')\n",
    "from src.processor import FantasyDataProcessor\n",
    "from src.scraper import ProFootballReferenceScraper\n",
    "from src.feature_engineering import FantasyFeatureEngineer\n",
    "from src.modelling import FantasyModel\n",
    "\n",
    "scraper = ProFootballReferenceScraper(data_dir=\"../data\")\n",
    "processor = FantasyDataProcessor(data_dir=\"../data\")\n",
    "engineer = FantasyFeatureEngineer(\n",
    "    data_dir=\"../data\",\n",
    "    metadata_cols=[\"player\", \"year\"],\n",
    "    target_cols=[\"standard_fantasy_points\", \"standard_fantasy_points_per_game\", \"ppr_fantasy_points\", \"ppr_fantasy_points_per_game\", \"value_over_replacement\"]\n",
    ")\n",
    "model = FantasyModel(data_dir=\"../data\")"
   ]
  },
  {
   "cell_type": "markdown",
   "metadata": {},
   "source": [
    "# Data Collection\n",
    "\n",
    "Let's use the ProFootballReferenceScraper to collect NFL player and team statistics."
   ]
  },
  {
   "cell_type": "code",
   "execution_count": 6,
   "metadata": {},
   "outputs": [
    {
     "name": "stderr",
     "output_type": "stream",
     "text": [
      "Scraping years:   0%|          | 0/1 [00:00<?, ?it/s]2025-07-21 15:23:29,391 - src.scraper - INFO - Scraping data from 1998\n",
      "2025-07-21 15:23:33,571 - src.scraper - INFO - Requesting https://www.pro-football-reference.com/years/1998/fantasy.htm\n",
      "2025-07-21 15:23:33,610 - src.scraper - ERROR - Error fetching https://www.pro-football-reference.com/years/1998/fantasy.htm: 403 Client Error: Forbidden for url: https://www.pro-football-reference.com/years/1998/fantasy.htm\n",
      "2025-07-21 15:23:33,610 - src.scraper - ERROR - Failed to get data for https://www.pro-football-reference.com/years/1998/fantasy.htm\n",
      "2025-07-21 15:23:38,004 - src.scraper - INFO - Requesting https://www.pro-football-reference.com/years/1998/passing.htm\n",
      "2025-07-21 15:23:38,042 - src.scraper - ERROR - Error fetching https://www.pro-football-reference.com/years/1998/passing.htm: 403 Client Error: Forbidden for url: https://www.pro-football-reference.com/years/1998/passing.htm\n",
      "2025-07-21 15:23:38,043 - src.scraper - ERROR - Failed to get data for https://www.pro-football-reference.com/years/1998/passing.htm\n",
      "2025-07-21 15:23:42,233 - src.scraper - INFO - Requesting https://www.pro-football-reference.com/years/1998/rushing.htm\n",
      "2025-07-21 15:23:42,313 - src.scraper - ERROR - Error fetching https://www.pro-football-reference.com/years/1998/rushing.htm: 403 Client Error: Forbidden for url: https://www.pro-football-reference.com/years/1998/rushing.htm\n",
      "2025-07-21 15:23:42,314 - src.scraper - ERROR - Failed to get data for https://www.pro-football-reference.com/years/1998/rushing.htm\n",
      "2025-07-21 15:23:45,885 - src.scraper - INFO - Requesting https://www.pro-football-reference.com/years/1998/rushing_advanced.htm\n",
      "2025-07-21 15:23:45,936 - src.scraper - ERROR - Error fetching https://www.pro-football-reference.com/years/1998/rushing_advanced.htm: 403 Client Error: Forbidden for url: https://www.pro-football-reference.com/years/1998/rushing_advanced.htm\n",
      "2025-07-21 15:23:45,940 - src.scraper - ERROR - Failed to get data for https://www.pro-football-reference.com/years/1998/rushing_advanced.htm\n",
      "2025-07-21 15:23:49,587 - src.scraper - INFO - Requesting https://www.pro-football-reference.com/years/1998/receiving.htm\n",
      "2025-07-21 15:23:49,639 - src.scraper - ERROR - Error fetching https://www.pro-football-reference.com/years/1998/receiving.htm: 403 Client Error: Forbidden for url: https://www.pro-football-reference.com/years/1998/receiving.htm\n",
      "2025-07-21 15:23:49,639 - src.scraper - ERROR - Failed to get data for https://www.pro-football-reference.com/years/1998/receiving.htm\n",
      "2025-07-21 15:23:53,857 - src.scraper - INFO - Requesting https://www.pro-football-reference.com/years/1998/receiving_advanced.htm\n",
      "2025-07-21 15:23:53,915 - src.scraper - ERROR - Error fetching https://www.pro-football-reference.com/years/1998/receiving_advanced.htm: 403 Client Error: Forbidden for url: https://www.pro-football-reference.com/years/1998/receiving_advanced.htm\n",
      "2025-07-21 15:23:53,916 - src.scraper - ERROR - Failed to get data for https://www.pro-football-reference.com/years/1998/receiving_advanced.htm\n",
      "2025-07-21 15:23:58,181 - src.scraper - INFO - Requesting https://www.pro-football-reference.com/years/1998/#team_stats\n",
      "2025-07-21 15:23:58,223 - src.scraper - ERROR - Error fetching https://www.pro-football-reference.com/years/1998/#team_stats: 403 Client Error: Forbidden for url: https://www.pro-football-reference.com/years/1998/#team_stats\n",
      "2025-07-21 15:23:58,224 - src.scraper - ERROR - Failed to get data for https://www.pro-football-reference.com/years/1998/#team_stats\n",
      "2025-07-21 15:23:58,224 - src.scraper - INFO - Completed scraping data from 1998\n",
      "Scraping years: 100%|██████████| 1/1 [00:28<00:00, 28.83s/it]\n"
     ]
    }
   ],
   "source": [
    "scraper.scrape_years(start_year=1998, end_year=1998)"
   ]
  },
  {
   "cell_type": "markdown",
   "metadata": {},
   "source": []
  },
  {
   "cell_type": "markdown",
   "metadata": {},
   "source": [
    "# Data Processing\n",
    "\n",
    "Build the silver layer from the scraped data"
   ]
  },
  {
   "cell_type": "code",
   "execution_count": 7,
   "metadata": {},
   "outputs": [
    {
     "name": "stderr",
     "output_type": "stream",
     "text": [
      "Processing files matching: *_player_fantasy_stats.csv: 100%|██████████| 25/25 [00:00<00:00, 231.45it/s]\n",
      "2025-07-21 15:25:58,392 - src.processor - INFO - Saved player_fantasy_stats.csv to ../data/silver/player_fantasy_stats.csv\n",
      "Processing files matching: *_player_receiving_stats.csv: 100%|██████████| 25/25 [00:00<00:00, 175.46it/s]\n",
      "2025-07-21 15:26:04,842 - src.processor - INFO - Saved player_receiving_stats.csv to ../data/silver/player_receiving_stats.csv\n",
      "Processing files matching: *_player_receiving_advanced_stats.csv: 100%|██████████| 7/7 [00:00<00:00, 179.93it/s]\n",
      "2025-07-21 15:26:06,340 - src.processor - INFO - Saved player_receiving_advanced_stats.csv to ../data/silver/player_receiving_advanced_stats.csv\n",
      "Processing files matching: *_player_rushing_stats.csv: 100%|██████████| 25/25 [00:00<00:00, 181.14it/s]\n",
      "2025-07-21 15:26:10,871 - src.processor - INFO - Saved player_rushing_stats.csv to ../data/silver/player_rushing_stats.csv\n",
      "Processing files matching: *_player_rushing_advanced_stats.csv: 100%|██████████| 7/7 [00:00<00:00, 256.64it/s]\n",
      "2025-07-21 15:26:11,531 - src.processor - INFO - Saved player_rushing_advanced_stats.csv to ../data/silver/player_rushing_advanced_stats.csv\n",
      "Processing files matching: *_player_passing_stats.csv:   0%|          | 0/25 [00:00<?, ?it/s]2025-07-21 15:26:11,537 - src.processor - INFO - Added missing QBR column to ../data/bronze/2001_player_passing_stats.csv\n",
      "2025-07-21 15:26:11,540 - src.processor - INFO - Added missing QBR column to ../data/bronze/2005_player_passing_stats.csv\n",
      "2025-07-21 15:26:11,564 - src.processor - INFO - Added missing QBR column to ../data/bronze/2004_player_passing_stats.csv\n",
      "2025-07-21 15:26:11,567 - src.processor - INFO - Added missing QBR column to ../data/bronze/2000_player_passing_stats.csv\n",
      "2025-07-21 15:26:11,581 - src.processor - INFO - Added missing QBR column to ../data/bronze/2002_player_passing_stats.csv\n",
      "Processing files matching: *_player_passing_stats.csv: 100%|██████████| 25/25 [00:00<00:00, 369.13it/s]\n",
      "2025-07-21 15:26:13,575 - src.processor - INFO - Saved player_passing_stats.csv to ../data/silver/player_passing_stats.csv\n",
      "Processing files matching: *_team_offense.csv: 100%|██████████| 25/25 [00:00<00:00, 333.07it/s]\n",
      "2025-07-21 15:26:13,688 - src.processor - INFO - Saved team_offense.csv to ../data/silver/team_offense.csv\n",
      "2025-07-21 15:26:14,525 - src.processor - INFO - Saved final_stats.csv to ../data/silver/final_stats.csv\n"
     ]
    }
   ],
   "source": [
    "processor.process_all_data()"
   ]
  },
  {
   "cell_type": "markdown",
   "metadata": {},
   "source": [
    "## Feature Engineering\n",
    "\n",
    "Determine which features have the most potential\n",
    "Prepare features for use in the model"
   ]
  },
  {
   "cell_type": "markdown",
   "metadata": {},
   "source": [
    "\n",
    "Let's see what the silver table looks like."
   ]
  },
  {
   "cell_type": "code",
   "execution_count": 4,
   "metadata": {},
   "outputs": [
    {
     "name": "stderr",
     "output_type": "stream",
     "text": [
      "2025-07-21 16:20:52,804 - src.feature_engineering - INFO - Loaded silver table: 12749 rows\n"
     ]
    }
   ],
   "source": [
    "silver_data = engineer.load_silver_table()"
   ]
  },
  {
   "cell_type": "code",
   "execution_count": 4,
   "metadata": {},
   "outputs": [
    {
     "name": "stdout",
     "output_type": "stream",
     "text": [
      "Missing values in silver data:\n",
      "player                          0\n",
      "year                            0\n",
      "team                            0\n",
      "age                             0\n",
      "standard_fantasy_points         0\n",
      "                               ..\n",
      "team_points_3_yr_avg            0\n",
      "team_yards_3_yr_avg             0\n",
      "team_plays_3_yr_avg             0\n",
      "team_yards_per_play_3_yr_avg    0\n",
      "awards                          0\n",
      "Length: 185, dtype: int64\n",
      "\n",
      "Data types in silver data:\n",
      "player                           object\n",
      "year                              int64\n",
      "team                             object\n",
      "age                               int64\n",
      "standard_fantasy_points         float64\n",
      "                                 ...   \n",
      "team_points_3_yr_avg            float64\n",
      "team_yards_3_yr_avg             float64\n",
      "team_plays_3_yr_avg             float64\n",
      "team_yards_per_play_3_yr_avg    float64\n",
      "awards                          float64\n",
      "Length: 185, dtype: object\n",
      "\n",
      "Duplicate rows in silver data: 0\n"
     ]
    }
   ],
   "source": [
    "print(\"Missing values in silver data:\")\n",
    "print(silver_data.isnull().sum())\n",
    "\n",
    "# Check data types\n",
    "print(\"\\nData types in silver data:\")\n",
    "print(silver_data.dtypes)\n",
    "\n",
    "# Check for duplicates\n",
    "print(f\"\\nDuplicate rows in silver data: {silver_data.duplicated().sum()}\")"
   ]
  },
  {
   "cell_type": "code",
   "execution_count": null,
   "metadata": {},
   "outputs": [],
   "source": [
    "engineer.build_gold_table(must_include_features=['age'])"
   ]
  },
  {
   "cell_type": "markdown",
   "metadata": {},
   "source": [
    "## Modelling\n",
    "\n",
    "- Start with linear regression\n",
    "- Become more advanced\n",
    "- Forward, Backward, Feature Selection\n",
    "- Models per target"
   ]
  },
  {
   "cell_type": "code",
   "execution_count": 14,
   "metadata": {},
   "outputs": [],
   "source": [
    "gold_data = model.load_gold_table()"
   ]
  },
  {
   "cell_type": "code",
   "execution_count": null,
   "metadata": {},
   "outputs": [
    {
     "name": "stdout",
     "output_type": "stream",
     "text": [
      "Score: 0.6106441430693899\n"
     ]
    }
   ],
   "source": [
    "metadata_cols = [\"player\", \"year\", \"team\"]\n",
    "target_cols = [\"ppr_fantasy_points\", \"standard_fantasy_points\", \"ppr_fantasy_points_per_game\", \"standard_fantasy_points_per_game\", \"value_over_replacement\"]\n",
    "feature_cols = [col for col in gold_data.columns if col not in metadata_cols + target_cols]\n",
    "\n",
    "X = gold_data[feature_cols]\n",
    "y = gold_data[\"ppr_fantasy_points\"]\n",
    "\n",
    "X_train, X_test, y_train, y_test = train_test_split(X, y, test_size=0.2, random_state=42)\n",
    "\n",
    "pipeline = model.create_pipeline(LinearRegression())\n",
    "\n",
    "pipeline.fit(X_train, y_train)\n",
    "\n",
    "score = pipeline.score(X_test, y_test)\n",
    "print(f\"Score: {score}\")"
   ]
  },
  {
   "cell_type": "code",
   "execution_count": 23,
   "metadata": {},
   "outputs": [
    {
     "ename": "ValueError",
     "evalue": "array length 2550 does not match index length 12749",
     "output_type": "error",
     "traceback": [
      "\u001b[0;31m---------------------------------------------------------------------------\u001b[0m",
      "\u001b[0;31mValueError\u001b[0m                                Traceback (most recent call last)",
      "Cell \u001b[0;32mIn[23], line 3\u001b[0m\n\u001b[1;32m      1\u001b[0m y_pred \u001b[38;5;241m=\u001b[39m pipeline\u001b[38;5;241m.\u001b[39mpredict(X_test)\n\u001b[0;32m----> 3\u001b[0m preds \u001b[38;5;241m=\u001b[39m pd\u001b[38;5;241m.\u001b[39mDataFrame({\n\u001b[1;32m      4\u001b[0m     \u001b[38;5;124m\"\u001b[39m\u001b[38;5;124mplayer\u001b[39m\u001b[38;5;124m\"\u001b[39m: gold_data[\u001b[38;5;124m\"\u001b[39m\u001b[38;5;124mplayer\u001b[39m\u001b[38;5;124m\"\u001b[39m],\n\u001b[1;32m      5\u001b[0m     \u001b[38;5;124m\"\u001b[39m\u001b[38;5;124myear\u001b[39m\u001b[38;5;124m\"\u001b[39m: gold_data[\u001b[38;5;124m\"\u001b[39m\u001b[38;5;124myear\u001b[39m\u001b[38;5;124m\"\u001b[39m],\n\u001b[1;32m      6\u001b[0m     \u001b[38;5;124m\"\u001b[39m\u001b[38;5;124mteam\u001b[39m\u001b[38;5;124m\"\u001b[39m: gold_data[\u001b[38;5;124m\"\u001b[39m\u001b[38;5;124mteam\u001b[39m\u001b[38;5;124m\"\u001b[39m],\n\u001b[1;32m      7\u001b[0m     \u001b[38;5;124m\"\u001b[39m\u001b[38;5;124mppr_fantasy_points\u001b[39m\u001b[38;5;124m\"\u001b[39m: y_pred,\n\u001b[1;32m      8\u001b[0m })\n\u001b[1;32m     10\u001b[0m \u001b[38;5;28mprint\u001b[39m(preds[\u001b[38;5;124m'\u001b[39m\u001b[38;5;124myear\u001b[39m\u001b[38;5;124m'\u001b[39m \u001b[38;5;241m==\u001b[39m \u001b[38;5;241m2024\u001b[39m])\n",
      "File \u001b[0;32m/opt/homebrew/Caskroom/miniconda/base/lib/python3.12/site-packages/pandas/core/frame.py:778\u001b[0m, in \u001b[0;36mDataFrame.__init__\u001b[0;34m(self, data, index, columns, dtype, copy)\u001b[0m\n\u001b[1;32m    772\u001b[0m     mgr \u001b[38;5;241m=\u001b[39m \u001b[38;5;28mself\u001b[39m\u001b[38;5;241m.\u001b[39m_init_mgr(\n\u001b[1;32m    773\u001b[0m         data, axes\u001b[38;5;241m=\u001b[39m{\u001b[38;5;124m\"\u001b[39m\u001b[38;5;124mindex\u001b[39m\u001b[38;5;124m\"\u001b[39m: index, \u001b[38;5;124m\"\u001b[39m\u001b[38;5;124mcolumns\u001b[39m\u001b[38;5;124m\"\u001b[39m: columns}, dtype\u001b[38;5;241m=\u001b[39mdtype, copy\u001b[38;5;241m=\u001b[39mcopy\n\u001b[1;32m    774\u001b[0m     )\n\u001b[1;32m    776\u001b[0m \u001b[38;5;28;01melif\u001b[39;00m \u001b[38;5;28misinstance\u001b[39m(data, \u001b[38;5;28mdict\u001b[39m):\n\u001b[1;32m    777\u001b[0m     \u001b[38;5;66;03m# GH#38939 de facto copy defaults to False only in non-dict cases\u001b[39;00m\n\u001b[0;32m--> 778\u001b[0m     mgr \u001b[38;5;241m=\u001b[39m dict_to_mgr(data, index, columns, dtype\u001b[38;5;241m=\u001b[39mdtype, copy\u001b[38;5;241m=\u001b[39mcopy, typ\u001b[38;5;241m=\u001b[39mmanager)\n\u001b[1;32m    779\u001b[0m \u001b[38;5;28;01melif\u001b[39;00m \u001b[38;5;28misinstance\u001b[39m(data, ma\u001b[38;5;241m.\u001b[39mMaskedArray):\n\u001b[1;32m    780\u001b[0m     \u001b[38;5;28;01mfrom\u001b[39;00m \u001b[38;5;21;01mnumpy\u001b[39;00m\u001b[38;5;21;01m.\u001b[39;00m\u001b[38;5;21;01mma\u001b[39;00m \u001b[38;5;28;01mimport\u001b[39;00m mrecords\n",
      "File \u001b[0;32m/opt/homebrew/Caskroom/miniconda/base/lib/python3.12/site-packages/pandas/core/internals/construction.py:503\u001b[0m, in \u001b[0;36mdict_to_mgr\u001b[0;34m(data, index, columns, dtype, typ, copy)\u001b[0m\n\u001b[1;32m    499\u001b[0m     \u001b[38;5;28;01melse\u001b[39;00m:\n\u001b[1;32m    500\u001b[0m         \u001b[38;5;66;03m# dtype check to exclude e.g. range objects, scalars\u001b[39;00m\n\u001b[1;32m    501\u001b[0m         arrays \u001b[38;5;241m=\u001b[39m [x\u001b[38;5;241m.\u001b[39mcopy() \u001b[38;5;28;01mif\u001b[39;00m \u001b[38;5;28mhasattr\u001b[39m(x, \u001b[38;5;124m\"\u001b[39m\u001b[38;5;124mdtype\u001b[39m\u001b[38;5;124m\"\u001b[39m) \u001b[38;5;28;01melse\u001b[39;00m x \u001b[38;5;28;01mfor\u001b[39;00m x \u001b[38;5;129;01min\u001b[39;00m arrays]\n\u001b[0;32m--> 503\u001b[0m \u001b[38;5;28;01mreturn\u001b[39;00m arrays_to_mgr(arrays, columns, index, dtype\u001b[38;5;241m=\u001b[39mdtype, typ\u001b[38;5;241m=\u001b[39mtyp, consolidate\u001b[38;5;241m=\u001b[39mcopy)\n",
      "File \u001b[0;32m/opt/homebrew/Caskroom/miniconda/base/lib/python3.12/site-packages/pandas/core/internals/construction.py:114\u001b[0m, in \u001b[0;36marrays_to_mgr\u001b[0;34m(arrays, columns, index, dtype, verify_integrity, typ, consolidate)\u001b[0m\n\u001b[1;32m    111\u001b[0m \u001b[38;5;28;01mif\u001b[39;00m verify_integrity:\n\u001b[1;32m    112\u001b[0m     \u001b[38;5;66;03m# figure out the index, if necessary\u001b[39;00m\n\u001b[1;32m    113\u001b[0m     \u001b[38;5;28;01mif\u001b[39;00m index \u001b[38;5;129;01mis\u001b[39;00m \u001b[38;5;28;01mNone\u001b[39;00m:\n\u001b[0;32m--> 114\u001b[0m         index \u001b[38;5;241m=\u001b[39m _extract_index(arrays)\n\u001b[1;32m    115\u001b[0m     \u001b[38;5;28;01melse\u001b[39;00m:\n\u001b[1;32m    116\u001b[0m         index \u001b[38;5;241m=\u001b[39m ensure_index(index)\n",
      "File \u001b[0;32m/opt/homebrew/Caskroom/miniconda/base/lib/python3.12/site-packages/pandas/core/internals/construction.py:690\u001b[0m, in \u001b[0;36m_extract_index\u001b[0;34m(data)\u001b[0m\n\u001b[1;32m    685\u001b[0m     \u001b[38;5;28;01mif\u001b[39;00m lengths[\u001b[38;5;241m0\u001b[39m] \u001b[38;5;241m!=\u001b[39m \u001b[38;5;28mlen\u001b[39m(index):\n\u001b[1;32m    686\u001b[0m         msg \u001b[38;5;241m=\u001b[39m (\n\u001b[1;32m    687\u001b[0m             \u001b[38;5;124mf\u001b[39m\u001b[38;5;124m\"\u001b[39m\u001b[38;5;124marray length \u001b[39m\u001b[38;5;132;01m{\u001b[39;00mlengths[\u001b[38;5;241m0\u001b[39m]\u001b[38;5;132;01m}\u001b[39;00m\u001b[38;5;124m does not match index \u001b[39m\u001b[38;5;124m\"\u001b[39m\n\u001b[1;32m    688\u001b[0m             \u001b[38;5;124mf\u001b[39m\u001b[38;5;124m\"\u001b[39m\u001b[38;5;124mlength \u001b[39m\u001b[38;5;132;01m{\u001b[39;00m\u001b[38;5;28mlen\u001b[39m(index)\u001b[38;5;132;01m}\u001b[39;00m\u001b[38;5;124m\"\u001b[39m\n\u001b[1;32m    689\u001b[0m         )\n\u001b[0;32m--> 690\u001b[0m         \u001b[38;5;28;01mraise\u001b[39;00m \u001b[38;5;167;01mValueError\u001b[39;00m(msg)\n\u001b[1;32m    691\u001b[0m \u001b[38;5;28;01melse\u001b[39;00m:\n\u001b[1;32m    692\u001b[0m     index \u001b[38;5;241m=\u001b[39m default_index(lengths[\u001b[38;5;241m0\u001b[39m])\n",
      "\u001b[0;31mValueError\u001b[0m: array length 2550 does not match index length 12749"
     ]
    }
   ],
   "source": [
    "y_pred = pipeline.predict(X_test)\n",
    "\n",
    "preds = pd.DataFrame({\n",
    "    \"player\": gold_data[\"player\"],\n",
    "    \"year\": gold_data[\"year\"],\n",
    "    \"team\": gold_data[\"team\"],\n",
    "    \"ppr_fantasy_points\": y_pred,\n",
    "})\n",
    "\n",
    "print(preds['year' == 2024])"
   ]
  }
 ],
 "metadata": {
  "kernelspec": {
   "display_name": "base",
   "language": "python",
   "name": "python3"
  },
  "language_info": {
   "codemirror_mode": {
    "name": "ipython",
    "version": 3
   },
   "file_extension": ".py",
   "mimetype": "text/x-python",
   "name": "python",
   "nbconvert_exporter": "python",
   "pygments_lexer": "ipython3",
   "version": "3.12.9"
  }
 },
 "nbformat": 4,
 "nbformat_minor": 2
}
