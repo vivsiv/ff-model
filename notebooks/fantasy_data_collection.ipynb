{
 "cells": [
  {
   "cell_type": "code",
   "execution_count": 1,
   "metadata": {},
   "outputs": [],
   "source": [
    "# Import necessary libraries\n",
    "import os\n",
    "import sys\n",
    "import pandas as pd\n",
    "import numpy as np\n",
    "import matplotlib.pyplot as plt\n",
    "import seaborn as sns\n",
    "\n",
    "# Add the src directory to the path so we can import our modules\n",
    "sys.path.append('../')\n",
    "from src.scraper import main as scraper_main"
   ]
  },
  {
   "cell_type": "markdown",
   "metadata": {},
   "source": [
    "# Data Collection\n",
    "\n",
    "Let's use the ProFootballReferenceScraper to collect NFL player and team statistics."
   ]
  },
  {
   "cell_type": "code",
   "execution_count": 2,
   "metadata": {},
   "outputs": [],
   "source": [
    "# Check if data directory exists, create if not\n",
    "os.makedirs('../data/raw', exist_ok=True)\n",
    "os.makedirs('../data/processed', exist_ok=True)\n",
    "os.makedirs('../data/final', exist_ok=True)"
   ]
  },
  {
   "cell_type": "code",
   "execution_count": 3,
   "metadata": {},
   "outputs": [
    {
     "name": "stderr",
     "output_type": "stream",
     "text": [
      "2025-02-27 22:55:41,929 - src.scraper - INFO - Starting scrape for years 2015 to 2024\n"
     ]
    },
    {
     "name": "stdout",
     "output_type": "stream",
     "text": [
      "Starting data collection...\n"
     ]
    },
    {
     "name": "stderr",
     "output_type": "stream",
     "text": [
      "Scraping years:   0%|          | 0/10 [00:00<?, ?it/s]2025-02-27 22:55:41,955 - src.scraper - INFO - Scraping data for 2015\n",
      "2025-02-27 22:55:46,243 - src.scraper - INFO - Requesting https://www.pro-football-reference.com/years/2015/fantasy.htm\n",
      "2025-02-27 22:55:46,944 - src.scraper - INFO - Saved fantasy stats for 2015 to /Users/vivek/Code/ff-predictor-2025/data/processed/fantasy_stats_2015.csv\n",
      "2025-02-27 22:55:50,674 - src.scraper - INFO - Requesting https://www.pro-football-reference.com/years/2015/\n",
      "2025-02-27 22:55:50,819 - src.scraper - ERROR - Team stats table not found for 2015\n",
      "2025-02-27 22:55:54,870 - src.scraper - INFO - Requesting https://www.pro-football-reference.com/years/2015/opp.htm\n",
      "/Users/vivek/Code/ff-predictor-2025/notebooks/../src/scraper.py:280: FutureWarning: Passing literal html to 'read_html' is deprecated and will be removed in a future version. To read from a literal string, wrap it in a 'StringIO' object.\n",
      "  dfs = pd.read_html(str(table))\n",
      "2025-02-27 22:55:55,024 - src.scraper - INFO - Saved advanced team stats for 2015 to /Users/vivek/Code/ff-predictor-2025/data/processed/advanced_team_stats_2015.csv\n",
      "2025-02-27 22:55:55,027 - src.scraper - WARNING - Required columns not found in fantasy stats for 2015\n",
      "2025-02-27 22:55:55,027 - src.scraper - INFO - Found 0 relevant players for 2015\n",
      "Scraping players for 2015: 0it [00:00, ?it/s]\n",
      "2025-02-27 22:55:55,029 - src.scraper - INFO - Completed scraping for 2015\n",
      "Scraping years:  10%|█         | 1/10 [00:13<01:57, 13.07s/it]2025-02-27 22:55:55,030 - src.scraper - INFO - Scraping data for 2016\n",
      "2025-02-27 22:55:59,077 - src.scraper - INFO - Requesting https://www.pro-football-reference.com/years/2016/fantasy.htm\n",
      "2025-02-27 22:55:59,686 - src.scraper - INFO - Saved fantasy stats for 2016 to /Users/vivek/Code/ff-predictor-2025/data/processed/fantasy_stats_2016.csv\n",
      "2025-02-27 22:56:03,519 - src.scraper - INFO - Requesting https://www.pro-football-reference.com/years/2016/\n",
      "2025-02-27 22:56:03,652 - src.scraper - ERROR - Team stats table not found for 2016\n",
      "2025-02-27 22:56:07,508 - src.scraper - INFO - Requesting https://www.pro-football-reference.com/years/2016/opp.htm\n",
      "/Users/vivek/Code/ff-predictor-2025/notebooks/../src/scraper.py:280: FutureWarning: Passing literal html to 'read_html' is deprecated and will be removed in a future version. To read from a literal string, wrap it in a 'StringIO' object.\n",
      "  dfs = pd.read_html(str(table))\n",
      "2025-02-27 22:56:07,735 - src.scraper - INFO - Saved advanced team stats for 2016 to /Users/vivek/Code/ff-predictor-2025/data/processed/advanced_team_stats_2016.csv\n",
      "2025-02-27 22:56:07,743 - src.scraper - WARNING - Required columns not found in fantasy stats for 2016\n",
      "2025-02-27 22:56:07,745 - src.scraper - INFO - Found 0 relevant players for 2016\n",
      "Scraping players for 2016: 0it [00:00, ?it/s]\n",
      "2025-02-27 22:56:07,751 - src.scraper - INFO - Completed scraping for 2016\n",
      "Scraping years:  20%|██        | 2/10 [00:25<01:42, 12.87s/it]2025-02-27 22:56:07,752 - src.scraper - INFO - Scraping data for 2017\n",
      "2025-02-27 22:56:12,033 - src.scraper - INFO - Requesting https://www.pro-football-reference.com/years/2017/fantasy.htm\n",
      "2025-02-27 22:56:12,725 - src.scraper - INFO - Saved fantasy stats for 2017 to /Users/vivek/Code/ff-predictor-2025/data/processed/fantasy_stats_2017.csv\n",
      "2025-02-27 22:56:16,980 - src.scraper - INFO - Requesting https://www.pro-football-reference.com/years/2017/\n",
      "2025-02-27 22:56:17,086 - src.scraper - ERROR - Team stats table not found for 2017\n",
      "2025-02-27 22:56:20,996 - src.scraper - INFO - Requesting https://www.pro-football-reference.com/years/2017/opp.htm\n",
      "/Users/vivek/Code/ff-predictor-2025/notebooks/../src/scraper.py:280: FutureWarning: Passing literal html to 'read_html' is deprecated and will be removed in a future version. To read from a literal string, wrap it in a 'StringIO' object.\n",
      "  dfs = pd.read_html(str(table))\n",
      "2025-02-27 22:56:21,137 - src.scraper - INFO - Saved advanced team stats for 2017 to /Users/vivek/Code/ff-predictor-2025/data/processed/advanced_team_stats_2017.csv\n",
      "2025-02-27 22:56:21,140 - src.scraper - WARNING - Required columns not found in fantasy stats for 2017\n",
      "2025-02-27 22:56:21,141 - src.scraper - INFO - Found 0 relevant players for 2017\n",
      "Scraping players for 2017: 0it [00:00, ?it/s]\n",
      "2025-02-27 22:56:21,143 - src.scraper - INFO - Completed scraping for 2017\n",
      "Scraping years:  30%|███       | 3/10 [00:39<01:31, 13.11s/it]2025-02-27 22:56:21,144 - src.scraper - INFO - Scraping data for 2018\n",
      "2025-02-27 22:56:25,303 - src.scraper - INFO - Requesting https://www.pro-football-reference.com/years/2018/fantasy.htm\n",
      "2025-02-27 22:56:25,883 - src.scraper - INFO - Saved fantasy stats for 2018 to /Users/vivek/Code/ff-predictor-2025/data/processed/fantasy_stats_2018.csv\n",
      "2025-02-27 22:56:29,988 - src.scraper - INFO - Requesting https://www.pro-football-reference.com/years/2018/\n",
      "2025-02-27 22:56:30,097 - src.scraper - ERROR - Team stats table not found for 2018\n",
      "2025-02-27 22:56:34,155 - src.scraper - INFO - Requesting https://www.pro-football-reference.com/years/2018/opp.htm\n",
      "/Users/vivek/Code/ff-predictor-2025/notebooks/../src/scraper.py:280: FutureWarning: Passing literal html to 'read_html' is deprecated and will be removed in a future version. To read from a literal string, wrap it in a 'StringIO' object.\n",
      "  dfs = pd.read_html(str(table))\n",
      "2025-02-27 22:56:34,278 - src.scraper - INFO - Saved advanced team stats for 2018 to /Users/vivek/Code/ff-predictor-2025/data/processed/advanced_team_stats_2018.csv\n",
      "2025-02-27 22:56:34,281 - src.scraper - WARNING - Required columns not found in fantasy stats for 2018\n",
      "2025-02-27 22:56:34,282 - src.scraper - INFO - Found 0 relevant players for 2018\n",
      "Scraping players for 2018: 0it [00:00, ?it/s]\n",
      "2025-02-27 22:56:34,284 - src.scraper - INFO - Completed scraping for 2018\n",
      "Scraping years:  40%|████      | 4/10 [00:52<01:18, 13.12s/it]2025-02-27 22:56:34,284 - src.scraper - INFO - Scraping data for 2019\n",
      "2025-02-27 22:56:38,263 - src.scraper - INFO - Requesting https://www.pro-football-reference.com/years/2019/fantasy.htm\n",
      "2025-02-27 22:56:38,812 - src.scraper - INFO - Saved fantasy stats for 2019 to /Users/vivek/Code/ff-predictor-2025/data/processed/fantasy_stats_2019.csv\n",
      "2025-02-27 22:56:42,334 - src.scraper - INFO - Requesting https://www.pro-football-reference.com/years/2019/\n",
      "2025-02-27 22:56:42,523 - src.scraper - ERROR - Team stats table not found for 2019\n",
      "2025-02-27 22:56:46,209 - src.scraper - INFO - Requesting https://www.pro-football-reference.com/years/2019/opp.htm\n",
      "/Users/vivek/Code/ff-predictor-2025/notebooks/../src/scraper.py:280: FutureWarning: Passing literal html to 'read_html' is deprecated and will be removed in a future version. To read from a literal string, wrap it in a 'StringIO' object.\n",
      "  dfs = pd.read_html(str(table))\n",
      "2025-02-27 22:56:46,360 - src.scraper - INFO - Saved advanced team stats for 2019 to /Users/vivek/Code/ff-predictor-2025/data/processed/advanced_team_stats_2019.csv\n",
      "2025-02-27 22:56:46,363 - src.scraper - WARNING - Required columns not found in fantasy stats for 2019\n",
      "2025-02-27 22:56:46,363 - src.scraper - INFO - Found 0 relevant players for 2019\n",
      "Scraping players for 2019: 0it [00:00, ?it/s]\n",
      "2025-02-27 22:56:46,365 - src.scraper - INFO - Completed scraping for 2019\n",
      "Scraping years:  50%|█████     | 5/10 [01:04<01:03, 12.75s/it]2025-02-27 22:56:46,366 - src.scraper - INFO - Scraping data for 2020\n",
      "2025-02-27 22:56:50,185 - src.scraper - INFO - Requesting https://www.pro-football-reference.com/years/2020/fantasy.htm\n",
      "2025-02-27 22:56:50,697 - src.scraper - INFO - Saved fantasy stats for 2020 to /Users/vivek/Code/ff-predictor-2025/data/processed/fantasy_stats_2020.csv\n",
      "2025-02-27 22:56:54,909 - src.scraper - INFO - Requesting https://www.pro-football-reference.com/years/2020/\n",
      "2025-02-27 22:56:55,021 - src.scraper - ERROR - Team stats table not found for 2020\n",
      "2025-02-27 22:56:58,706 - src.scraper - INFO - Requesting https://www.pro-football-reference.com/years/2020/opp.htm\n",
      "/Users/vivek/Code/ff-predictor-2025/notebooks/../src/scraper.py:280: FutureWarning: Passing literal html to 'read_html' is deprecated and will be removed in a future version. To read from a literal string, wrap it in a 'StringIO' object.\n",
      "  dfs = pd.read_html(str(table))\n",
      "2025-02-27 22:56:58,924 - src.scraper - INFO - Saved advanced team stats for 2020 to /Users/vivek/Code/ff-predictor-2025/data/processed/advanced_team_stats_2020.csv\n",
      "2025-02-27 22:56:58,927 - src.scraper - WARNING - Required columns not found in fantasy stats for 2020\n",
      "2025-02-27 22:56:58,927 - src.scraper - INFO - Found 0 relevant players for 2020\n",
      "Scraping players for 2020: 0it [00:00, ?it/s]\n",
      "2025-02-27 22:56:58,929 - src.scraper - INFO - Completed scraping for 2020\n",
      "Scraping years:  60%|██████    | 6/10 [01:16<00:50, 12.68s/it]2025-02-27 22:56:58,929 - src.scraper - INFO - Scraping data for 2021\n",
      "2025-02-27 22:57:03,366 - src.scraper - INFO - Requesting https://www.pro-football-reference.com/years/2021/fantasy.htm\n",
      "2025-02-27 22:57:03,891 - src.scraper - INFO - Saved fantasy stats for 2021 to /Users/vivek/Code/ff-predictor-2025/data/processed/fantasy_stats_2021.csv\n",
      "2025-02-27 22:57:07,452 - src.scraper - INFO - Requesting https://www.pro-football-reference.com/years/2021/\n",
      "2025-02-27 22:57:07,604 - src.scraper - ERROR - Team stats table not found for 2021\n",
      "2025-02-27 22:57:12,090 - src.scraper - INFO - Requesting https://www.pro-football-reference.com/years/2021/opp.htm\n",
      "/Users/vivek/Code/ff-predictor-2025/notebooks/../src/scraper.py:280: FutureWarning: Passing literal html to 'read_html' is deprecated and will be removed in a future version. To read from a literal string, wrap it in a 'StringIO' object.\n",
      "  dfs = pd.read_html(str(table))\n",
      "2025-02-27 22:57:12,274 - src.scraper - INFO - Saved advanced team stats for 2021 to /Users/vivek/Code/ff-predictor-2025/data/processed/advanced_team_stats_2021.csv\n",
      "2025-02-27 22:57:12,276 - src.scraper - WARNING - Required columns not found in fantasy stats for 2021\n",
      "2025-02-27 22:57:12,277 - src.scraper - INFO - Found 0 relevant players for 2021\n",
      "Scraping players for 2021: 0it [00:00, ?it/s]\n",
      "2025-02-27 22:57:12,278 - src.scraper - INFO - Completed scraping for 2021\n",
      "Scraping years:  70%|███████   | 7/10 [01:30<00:38, 12.90s/it]2025-02-27 22:57:12,279 - src.scraper - INFO - Scraping data for 2022\n",
      "2025-02-27 22:57:16,718 - src.scraper - INFO - Requesting https://www.pro-football-reference.com/years/2022/fantasy.htm\n",
      "2025-02-27 22:57:17,189 - src.scraper - INFO - Saved fantasy stats for 2022 to /Users/vivek/Code/ff-predictor-2025/data/processed/fantasy_stats_2022.csv\n",
      "2025-02-27 22:57:21,597 - src.scraper - INFO - Requesting https://www.pro-football-reference.com/years/2022/\n",
      "2025-02-27 22:57:21,745 - src.scraper - ERROR - Team stats table not found for 2022\n",
      "2025-02-27 22:57:25,344 - src.scraper - INFO - Requesting https://www.pro-football-reference.com/years/2022/opp.htm\n",
      "/Users/vivek/Code/ff-predictor-2025/notebooks/../src/scraper.py:280: FutureWarning: Passing literal html to 'read_html' is deprecated and will be removed in a future version. To read from a literal string, wrap it in a 'StringIO' object.\n",
      "  dfs = pd.read_html(str(table))\n",
      "2025-02-27 22:57:25,468 - src.scraper - INFO - Saved advanced team stats for 2022 to /Users/vivek/Code/ff-predictor-2025/data/processed/advanced_team_stats_2022.csv\n",
      "2025-02-27 22:57:25,470 - src.scraper - WARNING - Required columns not found in fantasy stats for 2022\n",
      "2025-02-27 22:57:25,471 - src.scraper - INFO - Found 0 relevant players for 2022\n",
      "Scraping players for 2022: 0it [00:00, ?it/s]\n",
      "2025-02-27 22:57:25,472 - src.scraper - INFO - Completed scraping for 2022\n",
      "Scraping years:  80%|████████  | 8/10 [01:43<00:25, 12.99s/it]2025-02-27 22:57:25,473 - src.scraper - INFO - Scraping data for 2023\n",
      "2025-02-27 22:57:29,007 - src.scraper - INFO - Requesting https://www.pro-football-reference.com/years/2023/fantasy.htm\n",
      "2025-02-27 22:57:29,564 - src.scraper - INFO - Saved fantasy stats for 2023 to /Users/vivek/Code/ff-predictor-2025/data/processed/fantasy_stats_2023.csv\n",
      "2025-02-27 22:57:33,651 - src.scraper - INFO - Requesting https://www.pro-football-reference.com/years/2023/\n",
      "2025-02-27 22:57:33,767 - src.scraper - ERROR - Team stats table not found for 2023\n",
      "2025-02-27 22:57:37,279 - src.scraper - INFO - Requesting https://www.pro-football-reference.com/years/2023/opp.htm\n",
      "/Users/vivek/Code/ff-predictor-2025/notebooks/../src/scraper.py:280: FutureWarning: Passing literal html to 'read_html' is deprecated and will be removed in a future version. To read from a literal string, wrap it in a 'StringIO' object.\n",
      "  dfs = pd.read_html(str(table))\n",
      "2025-02-27 22:57:37,409 - src.scraper - INFO - Saved advanced team stats for 2023 to /Users/vivek/Code/ff-predictor-2025/data/processed/advanced_team_stats_2023.csv\n",
      "2025-02-27 22:57:37,412 - src.scraper - WARNING - Required columns not found in fantasy stats for 2023\n",
      "2025-02-27 22:57:37,412 - src.scraper - INFO - Found 0 relevant players for 2023\n",
      "Scraping players for 2023: 0it [00:00, ?it/s]\n",
      "2025-02-27 22:57:37,414 - src.scraper - INFO - Completed scraping for 2023\n",
      "Scraping years:  90%|█████████ | 9/10 [01:55<00:12, 12.67s/it]2025-02-27 22:57:37,415 - src.scraper - INFO - Scraping data for 2024\n",
      "2025-02-27 22:57:41,812 - src.scraper - INFO - Requesting https://www.pro-football-reference.com/years/2024/fantasy.htm\n",
      "2025-02-27 22:57:42,364 - src.scraper - INFO - Saved fantasy stats for 2024 to /Users/vivek/Code/ff-predictor-2025/data/processed/fantasy_stats_2024.csv\n",
      "2025-02-27 22:57:46,611 - src.scraper - INFO - Requesting https://www.pro-football-reference.com/years/2024/\n",
      "2025-02-27 22:57:46,690 - src.scraper - ERROR - Team stats table not found for 2024\n",
      "2025-02-27 22:57:50,868 - src.scraper - INFO - Requesting https://www.pro-football-reference.com/years/2024/opp.htm\n",
      "/Users/vivek/Code/ff-predictor-2025/notebooks/../src/scraper.py:280: FutureWarning: Passing literal html to 'read_html' is deprecated and will be removed in a future version. To read from a literal string, wrap it in a 'StringIO' object.\n",
      "  dfs = pd.read_html(str(table))\n",
      "2025-02-27 22:57:50,988 - src.scraper - INFO - Saved advanced team stats for 2024 to /Users/vivek/Code/ff-predictor-2025/data/processed/advanced_team_stats_2024.csv\n",
      "2025-02-27 22:57:50,990 - src.scraper - WARNING - Required columns not found in fantasy stats for 2024\n",
      "2025-02-27 22:57:50,990 - src.scraper - INFO - Found 0 relevant players for 2024\n",
      "Scraping players for 2024: 0it [00:00, ?it/s]\n",
      "2025-02-27 22:57:50,993 - src.scraper - INFO - Completed scraping for 2024\n",
      "Scraping years: 100%|██████████| 10/10 [02:09<00:00, 12.90s/it]\n",
      "2025-02-27 22:57:50,994 - src.scraper - INFO - Scraping complete\n"
     ]
    },
    {
     "name": "stdout",
     "output_type": "stream",
     "text": [
      "Data collection complete!\n"
     ]
    }
   ],
   "source": [
    "# Run the scraper's main method\n",
    "print(\"Starting data collection...\")\n",
    "scraper_main()\n",
    "print(\"Data collection complete!\")"
   ]
  },
  {
   "cell_type": "markdown",
   "metadata": {},
   "source": [
    "# Data Exploration\n",
    "\n",
    "Let's explore the collected data to make sure it looks good."
   ]
  },
  {
   "cell_type": "code",
   "execution_count": 4,
   "metadata": {},
   "outputs": [
    {
     "name": "stdout",
     "output_type": "stream",
     "text": [
      "Found 30 files in the raw data directory:\n",
      " - years_2017_opp.htm.html\n",
      " - years_2020_fantasy.htm.html\n",
      " - years_2021_opp.htm.html\n",
      " - years_2015_fantasy.htm.html\n",
      " - years_2016_opp.htm.html\n",
      " - years_2024_fantasy.htm.html\n",
      " - years_2020_opp.htm.html\n",
      " - years_2021_fantasy.htm.html\n",
      " - years_2017.html\n",
      " - years_2021.html\n",
      " - years_2020.html\n",
      " - years_2016.html\n",
      " - years_2015.html\n",
      " - years_2017_fantasy.htm.html\n",
      " - years_2019.html\n",
      " - years_2022_fantasy.htm.html\n",
      " - years_2023.html\n",
      " - years_2018_opp.htm.html\n",
      " - years_2022.html\n",
      " - years_2018_fantasy.htm.html\n",
      " - years_2018.html\n",
      " - years_2019_opp.htm.html\n",
      " - years_2016_fantasy.htm.html\n",
      " - years_2022_opp.htm.html\n",
      " - years_2023_fantasy.htm.html\n",
      " - years_2019_fantasy.htm.html\n",
      " - years_2015_opp.htm.html\n",
      " - years_2024.html\n",
      " - years_2023_opp.htm.html\n",
      " - years_2024_opp.htm.html\n"
     ]
    }
   ],
   "source": [
    "# List the files in the raw data directory\n",
    "raw_files = os.listdir('../data/raw')\n",
    "print(f\"Found {len(raw_files)} files in the raw data directory:\")\n",
    "for file in raw_files:\n",
    "    print(f\" - {file}\")"
   ]
  },
  {
   "cell_type": "code",
   "execution_count": 5,
   "metadata": {},
   "outputs": [],
   "source": [
    "# Load and preview a player stats file\n",
    "player_files = [f for f in raw_files if 'player_stats' in f]\n",
    "if player_files:\n",
    "    latest_player_file = sorted(player_files)[-1]\n",
    "    print(f\"Loading {latest_player_file}...\")\n",
    "    \n",
    "    player_data = pd.read_csv(f'../data/raw/{latest_player_file}')\n",
    "    print(f\"Shape: {player_data.shape}\")\n",
    "    \n",
    "    # Display the first few rows\n",
    "    player_data.head()"
   ]
  },
  {
   "cell_type": "code",
   "execution_count": 6,
   "metadata": {},
   "outputs": [],
   "source": [
    "# Load and preview a team stats file\n",
    "team_files = [f for f in raw_files if 'team_stats' in f]\n",
    "if team_files:\n",
    "    latest_team_file = sorted(team_files)[-1]\n",
    "    print(f\"Loading {latest_team_file}...\")\n",
    "    \n",
    "    team_data = pd.read_csv(f'../data/raw/{latest_team_file}')\n",
    "    print(f\"Shape: {team_data.shape}\")\n",
    "    \n",
    "    # Display the first few rows\n",
    "    team_data.head()"
   ]
  },
  {
   "cell_type": "markdown",
   "metadata": {},
   "source": [
    "# Data Quality Check\n",
    "\n",
    "Let's check the quality of the collected data."
   ]
  },
  {
   "cell_type": "code",
   "execution_count": 7,
   "metadata": {},
   "outputs": [],
   "source": [
    "# Check for missing values in player data\n",
    "if 'player_data' in locals():\n",
    "    print(\"Missing values in player data:\")\n",
    "    print(player_data.isnull().sum())\n",
    "    \n",
    "    # Check data types\n",
    "    print(\"\\nData types in player data:\")\n",
    "    print(player_data.dtypes)\n",
    "    \n",
    "    # Check for duplicates\n",
    "    print(f\"\\nDuplicate rows in player data: {player_data.duplicated().sum()}\")"
   ]
  },
  {
   "cell_type": "code",
   "execution_count": 8,
   "metadata": {},
   "outputs": [],
   "source": [
    "# Check for missing values in team data\n",
    "if 'team_data' in locals():\n",
    "    print(\"Missing values in team data:\")\n",
    "    print(team_data.isnull().sum())\n",
    "    \n",
    "    # Check data types\n",
    "    print(\"\\nData types in team data:\")\n",
    "    print(team_data.dtypes)\n",
    "    \n",
    "    # Check for duplicates\n",
    "    print(f\"\\nDuplicate rows in team data: {team_data.duplicated().sum()}\")"
   ]
  }
 ],
 "metadata": {
  "kernelspec": {
   "display_name": "base",
   "language": "python",
   "name": "python3"
  },
  "language_info": {
   "codemirror_mode": {
    "name": "ipython",
    "version": 3
   },
   "file_extension": ".py",
   "mimetype": "text/x-python",
   "name": "python",
   "nbconvert_exporter": "python",
   "pygments_lexer": "ipython3",
   "version": "3.12.9"
  }
 },
 "nbformat": 4,
 "nbformat_minor": 2
}
