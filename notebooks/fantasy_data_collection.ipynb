{
 "cells": [
  {
   "cell_type": "code",
   "execution_count": 1,
   "metadata": {},
   "outputs": [],
   "source": [
    "import sys\n",
    "sys.path.append('../')\n",
    "from src.processor import FantasyDataProcessor\n",
    "from src.scraper import ProFootballReferenceScraper"
   ]
  },
  {
   "cell_type": "markdown",
   "metadata": {},
   "source": [
    "# Data Collection\n",
    "\n",
    "Let's use the ProFootballReferenceScraper to collect NFL player and team statistics."
   ]
  },
  {
   "cell_type": "code",
   "execution_count": 2,
   "metadata": {},
   "outputs": [
    {
     "name": "stderr",
     "output_type": "stream",
     "text": [
      "Scraping years:   0%|          | 0/2 [00:00<?, ?it/s]2025-07-09 10:23:00,476 - src.scraper - INFO - Scraping data from 2023\n",
      "2025-07-09 10:23:04,954 - src.scraper - INFO - Requesting https://www.pro-football-reference.com/years/2023/fantasy.htm\n",
      "2025-07-09 10:23:05,377 - src.scraper - INFO - Adjusted headers from 43 to 33\n",
      "2025-07-09 10:23:05,382 - src.scraper - INFO - Saved fantasy stats for 2023 to ../data/bronze/2023_player_fantasy_stats.csv\n",
      "2025-07-09 10:23:09,672 - src.scraper - INFO - Requesting https://www.pro-football-reference.com/years/2023/passing.htm\n",
      "2025-07-09 10:23:09,859 - src.scraper - INFO - Headers and data columns match for 2023\n",
      "2025-07-09 10:23:09,862 - src.scraper - INFO - Saved passing stats for 2023 to ../data/bronze/2023_player_passing_stats.csv\n",
      "2025-07-09 10:23:14,144 - src.scraper - INFO - Requesting https://www.pro-football-reference.com/years/2023/rushing.htm\n",
      "2025-07-09 10:23:14,461 - src.scraper - INFO - Adjusted headers from 22 to 18\n",
      "2025-07-09 10:23:14,464 - src.scraper - INFO - Saved rushing stats for 2023 to ../data/bronze/2023_player_rushing_stats.csv\n",
      "2025-07-09 10:23:18,075 - src.scraper - INFO - Requesting https://www.pro-football-reference.com/years/2023/rushing_advanced.htm\n",
      "2025-07-09 10:23:18,310 - src.scraper - INFO - Adjusted headers from 20 to 17\n",
      "2025-07-09 10:23:18,313 - src.scraper - INFO - Saved rushing_advanced stats for 2023 to ../data/bronze/2023_player_rushing_advanced_stats.csv\n",
      "2025-07-09 10:23:22,705 - src.scraper - INFO - Requesting https://www.pro-football-reference.com/years/2023/receiving.htm\n",
      "2025-07-09 10:23:23,074 - src.scraper - INFO - Adjusted headers from 25 to 21\n",
      "2025-07-09 10:23:23,077 - src.scraper - INFO - Saved receiving stats for 2023 to ../data/bronze/2023_player_receiving_stats.csv\n",
      "2025-07-09 10:23:26,791 - src.scraper - INFO - Requesting https://www.pro-football-reference.com/years/2023/receiving_advanced.htm\n",
      "2025-07-09 10:23:27,158 - src.scraper - INFO - Adjusted headers from 26 to 23\n",
      "2025-07-09 10:23:27,161 - src.scraper - INFO - Saved receiving_advanced stats for 2023 to ../data/bronze/2023_player_receiving_advanced_stats.csv\n",
      "2025-07-09 10:23:30,839 - src.scraper - INFO - Requesting https://www.pro-football-reference.com/years/2023/#team_stats\n",
      "/Users/viveksivakumar/Code/ff-model/notebooks/../src/scraper.py:118: MarkupResemblesLocatorWarning: The input looks more like a filename than markup. You may want to open this file and pass the filehandle into Beautiful Soup.\n",
      "  comment_soup = BeautifulSoup(comment, 'lxml')\n",
      "2025-07-09 10:23:30,931 - src.scraper - INFO - Found table 'team_stats' inside HTML comment for year 2023\n",
      "2025-07-09 10:23:30,935 - src.scraper - INFO - Adjusted headers from 40 to 28\n",
      "2025-07-09 10:23:30,938 - src.scraper - INFO - Saved team offense stats for 2023 to ../data/bronze/2023_team_offense.csv\n",
      "2025-07-09 10:23:30,938 - src.scraper - INFO - Completed scraping data from 2023\n",
      "Scraping years:  50%|█████     | 1/2 [00:30<00:30, 30.46s/it]2025-07-09 10:23:30,939 - src.scraper - INFO - Scraping data from 2024\n",
      "2025-07-09 10:23:34,559 - src.scraper - INFO - Requesting https://www.pro-football-reference.com/years/2024/fantasy.htm\n",
      "2025-07-09 10:23:34,987 - src.scraper - INFO - Adjusted headers from 43 to 33\n",
      "2025-07-09 10:23:34,992 - src.scraper - INFO - Saved fantasy stats for 2024 to ../data/bronze/2024_player_fantasy_stats.csv\n",
      "2025-07-09 10:23:39,289 - src.scraper - INFO - Requesting https://www.pro-football-reference.com/years/2024/passing.htm\n",
      "2025-07-09 10:23:39,449 - src.scraper - INFO - Headers and data columns match for 2024\n",
      "2025-07-09 10:23:39,451 - src.scraper - INFO - Saved passing stats for 2024 to ../data/bronze/2024_player_passing_stats.csv\n",
      "2025-07-09 10:23:43,734 - src.scraper - INFO - Requesting https://www.pro-football-reference.com/years/2024/rushing.htm\n",
      "2025-07-09 10:23:44,094 - src.scraper - INFO - Adjusted headers from 22 to 18\n",
      "2025-07-09 10:23:44,098 - src.scraper - INFO - Saved rushing stats for 2024 to ../data/bronze/2024_player_rushing_stats.csv\n",
      "2025-07-09 10:23:48,501 - src.scraper - INFO - Requesting https://www.pro-football-reference.com/years/2024/rushing_advanced.htm\n",
      "2025-07-09 10:23:48,730 - src.scraper - INFO - Adjusted headers from 20 to 17\n",
      "2025-07-09 10:23:48,732 - src.scraper - INFO - Saved rushing_advanced stats for 2024 to ../data/bronze/2024_player_rushing_advanced_stats.csv\n",
      "2025-07-09 10:23:52,746 - src.scraper - INFO - Requesting https://www.pro-football-reference.com/years/2024/receiving.htm\n",
      "2025-07-09 10:23:53,130 - src.scraper - INFO - Adjusted headers from 25 to 21\n",
      "2025-07-09 10:23:53,133 - src.scraper - INFO - Saved receiving stats for 2024 to ../data/bronze/2024_player_receiving_stats.csv\n",
      "2025-07-09 10:23:57,180 - src.scraper - INFO - Requesting https://www.pro-football-reference.com/years/2024/receiving_advanced.htm\n",
      "2025-07-09 10:23:57,526 - src.scraper - INFO - Adjusted headers from 26 to 23\n",
      "2025-07-09 10:23:57,529 - src.scraper - INFO - Saved receiving_advanced stats for 2024 to ../data/bronze/2024_player_receiving_advanced_stats.csv\n",
      "2025-07-09 10:24:01,143 - src.scraper - INFO - Requesting https://www.pro-football-reference.com/years/2024/#team_stats\n",
      "2025-07-09 10:24:01,254 - src.scraper - INFO - Found table 'team_stats' inside HTML comment for year 2024\n",
      "2025-07-09 10:24:01,259 - src.scraper - INFO - Adjusted headers from 40 to 28\n",
      "2025-07-09 10:24:01,261 - src.scraper - INFO - Saved team offense stats for 2024 to ../data/bronze/2024_team_offense.csv\n",
      "2025-07-09 10:24:01,261 - src.scraper - INFO - Completed scraping data from 2024\n",
      "Scraping years: 100%|██████████| 2/2 [01:00<00:00, 30.39s/it]\n"
     ]
    }
   ],
   "source": [
    "pfr = ProFootballReferenceScraper(data_dir=\"../data\")\n",
    "pfr.scrape_years(start_year=2023, end_year=2024)"
   ]
  },
  {
   "cell_type": "markdown",
   "metadata": {},
   "source": []
  },
  {
   "cell_type": "markdown",
   "metadata": {},
   "source": [
    "# Data Processing\n",
    "\n",
    "Build the silver layer from the scraped data"
   ]
  },
  {
   "cell_type": "code",
   "execution_count": 2,
   "metadata": {},
   "outputs": [],
   "source": [
    "processor = FantasyDataProcessor(data_dir=\"../data\")"
   ]
  },
  {
   "cell_type": "code",
   "execution_count": 3,
   "metadata": {},
   "outputs": [
    {
     "name": "stderr",
     "output_type": "stream",
     "text": [
      "Processing files matching: *_player_passing_stats.csv:   0%|          | 0/2 [00:00<?, ?it/s]2025-07-09 11:53:25,439 - src.processor - WARNING - Column 'awards' not found in dataframe, skipping transformation.\n",
      "2025-07-09 11:53:25,444 - src.processor - WARNING - Column 'awards' not found in dataframe, skipping transformation.\n",
      "Processing files matching: *_player_passing_stats.csv: 100%|██████████| 2/2 [00:00<00:00, 156.83it/s]\n",
      "2025-07-09 11:53:25,618 - src.processor - INFO - Saved player_passing_stats.csv to ../data/silver/player_passing_stats.csv\n"
     ]
    }
   ],
   "source": [
    "# processor.build_player_fantasy_stats()\n",
    "# processor.build_player_receiving_stats()\n",
    "# processor.build_player_receiving_advanced_stats()\n",
    "# processor.build_player_rushing_stats()\n",
    "# processor.build_player_rushing_advanced_stats()\n",
    "processor.build_player_passing_stats()\n",
    "# processor.build_team_stats()\n"
   ]
  },
  {
   "cell_type": "code",
   "execution_count": 4,
   "metadata": {},
   "outputs": [
    {
     "name": "stderr",
     "output_type": "stream",
     "text": [
      "Processing files matching: *_player_fantasy_stats.csv: 100%|██████████| 2/2 [00:00<00:00, 153.42it/s]\n",
      "2025-07-09 11:54:04,795 - src.processor - INFO - Saved player_fantasy_stats.csv to ../data/silver/player_fantasy_stats.csv\n",
      "Processing files matching: *_player_receiving_stats.csv: 100%|██████████| 2/2 [00:00<00:00, 111.45it/s]\n",
      "2025-07-09 11:54:05,267 - src.processor - INFO - Saved player_receiving_stats.csv to ../data/silver/player_receiving_stats.csv\n",
      "Processing files matching: *_player_receiving_advanced_stats.csv: 100%|██████████| 2/2 [00:00<00:00, 196.33it/s]\n",
      "2025-07-09 11:54:05,611 - src.processor - INFO - Saved player_receiving_advanced_stats.csv to ../data/silver/player_receiving_advanced_stats.csv\n",
      "Processing files matching: *_player_rushing_stats.csv: 100%|██████████| 2/2 [00:00<00:00, 155.91it/s]\n",
      "2025-07-09 11:54:05,939 - src.processor - INFO - Saved player_rushing_stats.csv to ../data/silver/player_rushing_stats.csv\n",
      "Processing files matching: *_player_rushing_advanced_stats.csv: 100%|██████████| 2/2 [00:00<00:00, 235.76it/s]\n",
      "2025-07-09 11:54:06,105 - src.processor - INFO - Saved player_rushing_advanced_stats.csv to ../data/silver/player_rushing_advanced_stats.csv\n",
      "Processing files matching: *_player_passing_stats.csv:   0%|          | 0/2 [00:00<?, ?it/s]2025-07-09 11:54:06,109 - src.processor - WARNING - Column 'awards' not found in dataframe, skipping transformation.\n",
      "2025-07-09 11:54:06,112 - src.processor - WARNING - Column 'awards' not found in dataframe, skipping transformation.\n",
      "Processing files matching: *_player_passing_stats.csv: 100%|██████████| 2/2 [00:00<00:00, 295.76it/s]\n",
      "2025-07-09 11:54:06,290 - src.processor - INFO - Saved player_passing_stats.csv to ../data/silver/player_passing_stats.csv\n",
      "Processing files matching: *_team_offense.csv: 100%|██████████| 2/2 [00:00<00:00, 526.72it/s]\n",
      "2025-07-09 11:54:06,312 - src.processor - INFO - Saved team_offense.csv to ../data/silver/team_offense.csv\n",
      "2025-07-09 11:54:06,372 - src.processor - INFO - Saved final_stats.csv to ../data/silver/final_stats.csv\n",
      "2025-07-09 11:54:06,432 - src.processor - INFO - Saved final_stats.csv to ../data/silver/final_stats.csv\n"
     ]
    }
   ],
   "source": [
    "processor.process_all_data()\n",
    "processor.join_stats()"
   ]
  },
  {
   "cell_type": "code",
   "execution_count": 5,
   "metadata": {},
   "outputs": [],
   "source": [
    "# Load and preview a player stats file\n",
    "player_files = [f for f in raw_files if 'player_stats' in f]\n",
    "if player_files:\n",
    "    latest_player_file = sorted(player_files)[-1]\n",
    "    print(f\"Loading {latest_player_file}...\")\n",
    "    \n",
    "    player_data = pd.read_csv(f'../data/raw/{latest_player_file}')\n",
    "    print(f\"Shape: {player_data.shape}\")\n",
    "    \n",
    "    # Display the first few rows\n",
    "    player_data.head()"
   ]
  },
  {
   "cell_type": "code",
   "execution_count": 6,
   "metadata": {},
   "outputs": [],
   "source": [
    "# Load and preview a team stats file\n",
    "team_files = [f for f in raw_files if 'team_stats' in f]\n",
    "if team_files:\n",
    "    latest_team_file = sorted(team_files)[-1]\n",
    "    print(f\"Loading {latest_team_file}...\")\n",
    "    \n",
    "    team_data = pd.read_csv(f'../data/raw/{latest_team_file}')\n",
    "    print(f\"Shape: {team_data.shape}\")\n",
    "    \n",
    "    # Display the first few rows\n",
    "    team_data.head()"
   ]
  },
  {
   "cell_type": "markdown",
   "metadata": {},
   "source": [
    "# Data Quality Check\n",
    "\n",
    "Let's check the quality of the collected data."
   ]
  },
  {
   "cell_type": "code",
   "execution_count": 7,
   "metadata": {},
   "outputs": [],
   "source": [
    "# Check for missing values in player data\n",
    "if 'player_data' in locals():\n",
    "    print(\"Missing values in player data:\")\n",
    "    print(player_data.isnull().sum())\n",
    "    \n",
    "    # Check data types\n",
    "    print(\"\\nData types in player data:\")\n",
    "    print(player_data.dtypes)\n",
    "    \n",
    "    # Check for duplicates\n",
    "    print(f\"\\nDuplicate rows in player data: {player_data.duplicated().sum()}\")"
   ]
  },
  {
   "cell_type": "code",
   "execution_count": 8,
   "metadata": {},
   "outputs": [],
   "source": [
    "# Check for missing values in team data\n",
    "if 'team_data' in locals():\n",
    "    print(\"Missing values in team data:\")\n",
    "    print(team_data.isnull().sum())\n",
    "    \n",
    "    # Check data types\n",
    "    print(\"\\nData types in team data:\")\n",
    "    print(team_data.dtypes)\n",
    "    \n",
    "    # Check for duplicates\n",
    "    print(f\"\\nDuplicate rows in team data: {team_data.duplicated().sum()}\")"
   ]
  }
 ],
 "metadata": {
  "kernelspec": {
   "display_name": "base",
   "language": "python",
   "name": "python3"
  },
  "language_info": {
   "codemirror_mode": {
    "name": "ipython",
    "version": 3
   },
   "file_extension": ".py",
   "mimetype": "text/x-python",
   "name": "python",
   "nbconvert_exporter": "python",
   "pygments_lexer": "ipython3",
   "version": "3.12.9"
  }
 },
 "nbformat": 4,
 "nbformat_minor": 2
}
