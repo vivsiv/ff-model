{
 "cells": [
  {
   "cell_type": "code",
   "execution_count": 1,
   "metadata": {},
   "outputs": [],
   "source": [
    "import pandas as pd\n",
    "\n",
    "import sys\n",
    "sys.path.append('../')"
   ]
  },
  {
   "cell_type": "markdown",
   "metadata": {},
   "source": [
    "# Data Collection\n",
    "\n",
    "Let's use the ProFootballReferenceScraper to collect NFL player and team statistics."
   ]
  },
  {
   "cell_type": "code",
   "execution_count": null,
   "metadata": {},
   "outputs": [],
   "source": [
    "from src.scraper import ProFootballReferenceScraper\n",
    "\n",
    "scraper = ProFootballReferenceScraper(data_dir=\"../data\")\n",
    "scraper.scrape_years(start_year=1999, end_year=2024)"
   ]
  },
  {
   "cell_type": "markdown",
   "metadata": {},
   "source": []
  },
  {
   "cell_type": "markdown",
   "metadata": {},
   "source": [
    "# Data Processing\n",
    "\n",
    "Build the silver layer from the scraped data"
   ]
  },
  {
   "cell_type": "code",
   "execution_count": 2,
   "metadata": {},
   "outputs": [
    {
     "name": "stderr",
     "output_type": "stream",
     "text": [
      "Processing files matching: *_player_fantasy_stats.csv: 100%|██████████| 25/25 [00:00<00:00, 242.94it/s]\n",
      "2025-07-27 22:13:18,751 - src.processor - INFO - Saved player_fantasy_stats.csv to ../data/silver/player_fantasy_stats.csv\n",
      "Processing files matching: *_player_receiving_stats.csv: 100%|██████████| 25/25 [00:00<00:00, 186.90it/s]\n",
      "2025-07-27 22:13:24,967 - src.processor - INFO - Saved player_receiving_stats.csv to ../data/silver/player_receiving_stats.csv\n",
      "Processing files matching: *_player_rushing_stats.csv: 100%|██████████| 25/25 [00:00<00:00, 187.33it/s]\n",
      "2025-07-27 22:13:29,538 - src.processor - INFO - Saved player_rushing_stats.csv to ../data/silver/player_rushing_stats.csv\n",
      "Processing files matching: *_player_passing_stats.csv:   0%|          | 0/25 [00:00<?, ?it/s]2025-07-27 22:13:29,544 - src.processor - INFO - Added missing pass_qbr column to ../data/bronze/2001_player_passing_stats.csv\n",
      "2025-07-27 22:13:29,547 - src.processor - INFO - Added missing pass_qbr column to ../data/bronze/2005_player_passing_stats.csv\n",
      "2025-07-27 22:13:29,626 - src.processor - INFO - Added missing pass_qbr column to ../data/bronze/2004_player_passing_stats.csv\n",
      "2025-07-27 22:13:29,632 - src.processor - INFO - Added missing pass_qbr column to ../data/bronze/2000_player_passing_stats.csv\n",
      "Processing files matching: *_player_passing_stats.csv:  60%|██████    | 15/25 [00:00<00:00, 146.78it/s]2025-07-27 22:13:29,648 - src.processor - INFO - Added missing pass_qbr column to ../data/bronze/2002_player_passing_stats.csv\n",
      "Processing files matching: *_player_passing_stats.csv: 100%|██████████| 25/25 [00:00<00:00, 193.70it/s]\n",
      "2025-07-27 22:13:31,918 - src.processor - INFO - Saved player_passing_stats.csv to ../data/silver/player_passing_stats.csv\n",
      "Processing files matching: *_team_offense.csv: 100%|██████████| 25/25 [00:00<00:00, 742.41it/s]\n",
      "2025-07-27 22:13:31,990 - src.processor - INFO - Saved team_offense.csv to ../data/silver/team_offense.csv\n",
      "2025-07-27 22:13:32,872 - src.processor - INFO - Final data saved to ../data/gold/final_stats.csv\n"
     ]
    }
   ],
   "source": [
    "\n",
    "from src.processor import FantasyDataProcessor\n",
    "\n",
    "processor = FantasyDataProcessor(data_dir=\"../data\")\n",
    "processor.process_all_data()"
   ]
  },
  {
   "cell_type": "markdown",
   "metadata": {},
   "source": [
    "## Feature Analysis \n",
    "\n",
    "- Do some data quality checks on the final stats\n",
    "- Do some sanity checks on the final stats\n",
    "- Look at which features are the most and least informative"
   ]
  },
  {
   "cell_type": "code",
   "execution_count": 3,
   "metadata": {},
   "outputs": [
    {
     "name": "stderr",
     "output_type": "stream",
     "text": [
      "2025-07-27 22:14:22,035 - src.feature_engineering - INFO - Loaded gold table: 12749 rows\n"
     ]
    }
   ],
   "source": [
    "\n",
    "from src.feature_engineering import FantasyFeatureEngineer\n",
    "\n",
    "engineer = FantasyFeatureEngineer(\n",
    "    data_dir=\"../data\",\n",
    "    metadata_cols=[\"id\"],\n",
    "    target_cols=[\"standard_fantasy_points\", \"standard_fantasy_points_per_game\", \"ppr_fantasy_points\", \"ppr_fantasy_points_per_game\", \"value_over_replacement\"],\n",
    ")\n",
    "final_stats = engineer.gold_data"
   ]
  },
  {
   "cell_type": "code",
   "execution_count": null,
   "metadata": {},
   "outputs": [
    {
     "name": "stdout",
     "output_type": "stream",
     "text": [
      "(12749, 194)\n",
      "Rows with null values: 0\n",
      "Non float data types: 1\n",
      "\n",
      "Duplicate rows in final stats: 0\n"
     ]
    }
   ],
   "source": [
    "# See shape\n",
    "print(final_stats.shape)\n",
    "\n",
    "# Check null values\n",
    "null_values = final_stats.isnull().sum()\n",
    "print(f\"Rows with null values: {null_values[null_values > 0].count()}\")\n",
    "\n",
    "# Check data types\n",
    "data_types = final_stats.dtypes\n",
    "print(f\"Non float data types: {data_types[data_types != 'float64'].count()}\")\n",
    "\n",
    "# Check for duplicates\n",
    "print(f\"\\nDuplicate rows in final stats: {final_stats.duplicated().sum()}\")"
   ]
  },
  {
   "cell_type": "code",
   "execution_count": 5,
   "metadata": {},
   "outputs": [
    {
     "name": "stdout",
     "output_type": "stream",
     "text": [
      "                     id   age  games  games_2yr_avg  games_3yr_avg\n",
      "3278  malik_nabers_2024  21.0    0.0            0.0            0.0\n"
     ]
    }
   ],
   "source": [
    "# Check that games are joined correctly (rookies should have 0 game played)\n",
    "print(final_stats[final_stats['id'] == 'malik_nabers_2024'][['id', 'age','games', 'games_2yr_avg', 'games_3yr_avg']])\n",
    "\n",
    "# Check that the correct year in player fantasy stats is joined with the correct year in player stats\n",
    "\n",
    "# Check that the last year of data is dropped\n",
    "\n",
    "# TODO: brainstorm other sanity checks"
   ]
  },
  {
   "cell_type": "code",
   "execution_count": 6,
   "metadata": {},
   "outputs": [],
   "source": [
    "\n",
    "engineer.generate_feature_analysis()"
   ]
  },
  {
   "cell_type": "markdown",
   "metadata": {},
   "source": [
    "## Modelling\n",
    "\n",
    "- Start with linear regression\n",
    "- Become more advanced\n",
    "- Forward, Backward, Feature Selection\n",
    "- Models per target"
   ]
  },
  {
   "cell_type": "code",
   "execution_count": 2,
   "metadata": {},
   "outputs": [],
   "source": [
    "from src.modelling import FantasyModel\n",
    "\n",
    "ppr_model = FantasyModel(data_dir=\"../data\", target_col=\"ppr_fantasy_points\")"
   ]
  },
  {
   "cell_type": "code",
   "execution_count": 3,
   "metadata": {},
   "outputs": [
    {
     "name": "stdout",
     "output_type": "stream",
     "text": [
      "Best params: {'model': Lasso()}\n",
      "Best score: 0.49134632913422394\n",
      "Best estimator: Pipeline(steps=[('imputer', SimpleImputer()), ('scaler', StandardScaler()),\n",
      "                ('model', Lasso())])\n"
     ]
    }
   ],
   "source": [
    "data = ppr_model.split_data()\n",
    "\n",
    "eval_pipeline = ppr_model.create_pipeline()\n",
    "grid_search = ppr_model.create_grid_search(eval_pipeline, data)\n",
    "\n",
    "print(f\"Best params: {grid_search.best_params_}\")\n",
    "print(f\"Best score: {grid_search.best_score_}\")\n",
    "print(f\"Best estimator: {grid_search.best_estimator_}\")"
   ]
  },
  {
   "cell_type": "code",
   "execution_count": 6,
   "metadata": {},
   "outputs": [
    {
     "data": {
      "text/html": [
       "<div>\n",
       "<style scoped>\n",
       "    .dataframe tbody tr th:only-of-type {\n",
       "        vertical-align: middle;\n",
       "    }\n",
       "\n",
       "    .dataframe tbody tr th {\n",
       "        vertical-align: top;\n",
       "    }\n",
       "\n",
       "    .dataframe thead th {\n",
       "        text-align: right;\n",
       "    }\n",
       "</style>\n",
       "<table border=\"1\" class=\"dataframe\">\n",
       "  <thead>\n",
       "    <tr style=\"text-align: right;\">\n",
       "      <th></th>\n",
       "      <th>param_model</th>\n",
       "      <th>mean_test_score</th>\n",
       "      <th>std_test_score</th>\n",
       "    </tr>\n",
       "  </thead>\n",
       "  <tbody>\n",
       "    <tr>\n",
       "      <th>2</th>\n",
       "      <td>Lasso()</td>\n",
       "      <td>0.491346</td>\n",
       "      <td>0.009205</td>\n",
       "    </tr>\n",
       "    <tr>\n",
       "      <th>5</th>\n",
       "      <td>HistGradientBoostingRegressor()</td>\n",
       "      <td>0.486934</td>\n",
       "      <td>0.010359</td>\n",
       "    </tr>\n",
       "    <tr>\n",
       "      <th>1</th>\n",
       "      <td>Ridge()</td>\n",
       "      <td>0.485777</td>\n",
       "      <td>0.008934</td>\n",
       "    </tr>\n",
       "    <tr>\n",
       "      <th>0</th>\n",
       "      <td>LinearRegression()</td>\n",
       "      <td>0.482249</td>\n",
       "      <td>0.009866</td>\n",
       "    </tr>\n",
       "    <tr>\n",
       "      <th>3</th>\n",
       "      <td>RandomForestRegressor()</td>\n",
       "      <td>0.461368</td>\n",
       "      <td>0.010171</td>\n",
       "    </tr>\n",
       "    <tr>\n",
       "      <th>4</th>\n",
       "      <td>SVR()</td>\n",
       "      <td>0.382666</td>\n",
       "      <td>0.010358</td>\n",
       "    </tr>\n",
       "  </tbody>\n",
       "</table>\n",
       "</div>"
      ],
      "text/plain": [
       "                       param_model  mean_test_score  std_test_score\n",
       "2                          Lasso()         0.491346        0.009205\n",
       "5  HistGradientBoostingRegressor()         0.486934        0.010359\n",
       "1                          Ridge()         0.485777        0.008934\n",
       "0               LinearRegression()         0.482249        0.009866\n",
       "3          RandomForestRegressor()         0.461368        0.010171\n",
       "4                            SVR()         0.382666        0.010358"
      ]
     },
     "metadata": {},
     "output_type": "display_data"
    }
   ],
   "source": [
    "# Get mean test score and std test score for each model and make a dataframe out of it\n",
    "cv_results_df = pd.DataFrame(grid_search.cv_results_)\n",
    "display(cv_results_df[['param_model', 'mean_test_score', 'std_test_score']].sort_values(by='mean_test_score', ascending=False))"
   ]
  }
 ],
 "metadata": {
  "kernelspec": {
   "display_name": "Python 3",
   "language": "python",
   "name": "python3"
  },
  "language_info": {
   "codemirror_mode": {
    "name": "ipython",
    "version": 3
   },
   "file_extension": ".py",
   "mimetype": "text/x-python",
   "name": "python",
   "nbconvert_exporter": "python",
   "pygments_lexer": "ipython3",
   "version": "3.13.3"
  }
 },
 "nbformat": 4,
 "nbformat_minor": 2
}
