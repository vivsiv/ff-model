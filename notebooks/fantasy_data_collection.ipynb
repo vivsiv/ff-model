{
 "cells": [
  {
   "cell_type": "markdown",
   "metadata": {},
   "source": [
    "# Data Collection\n",
    "\n",
    "Let's use the ProFootballReferenceScraper to collect NFL player and team statistics."
   ]
  },
  {
   "cell_type": "code",
   "execution_count": 1,
   "metadata": {},
   "outputs": [
    {
     "name": "stderr",
     "output_type": "stream",
     "text": [
      "Scraping years:   0%|          | 0/2 [00:00<?, ?it/s]2025-06-09 21:45:35,034 - src.scraper - INFO - scrape_years - Scraping data from 2023\n",
      "2025-06-09 21:45:39,025 - src.scraper - INFO - _get_soup - Requesting https://www.pro-football-reference.com/years/2023/#team_stats\n",
      "2025-06-09 21:45:39,234 - src.scraper - WARNING - scrape_team_offensive_stats - Table with id 'team_stats' not found on https://www.pro-football-reference.com/years/2023/#team_stats for year 2023\n",
      "2025-06-09 21:45:39,234 - src.scraper - INFO - scrape_years - Completed scraping data from 2023\n",
      "Scraping years:  50%|█████     | 1/2 [00:04<00:04,  4.20s/it]2025-06-09 21:45:39,235 - src.scraper - INFO - scrape_years - Scraping data from 2024\n",
      "2025-06-09 21:45:43,268 - src.scraper - INFO - _get_soup - Requesting https://www.pro-football-reference.com/years/2024/#team_stats\n",
      "2025-06-09 21:45:43,373 - src.scraper - WARNING - scrape_team_offensive_stats - Table with id 'team_stats' not found on https://www.pro-football-reference.com/years/2024/#team_stats for year 2024\n",
      "2025-06-09 21:45:43,374 - src.scraper - INFO - scrape_years - Completed scraping data from 2024\n",
      "Scraping years: 100%|██████████| 2/2 [00:08<00:00,  4.17s/it]\n"
     ]
    }
   ],
   "source": [
    "import sys\n",
    "sys.path.append('../')\n",
    "from src.scraper import ProFootballReferenceScraper\n",
    "\n",
    "pfr = ProFootballReferenceScraper(data_dir=\"../data\")\n",
    "pfr.scrape_years(start_year=2023, end_year=2024, include_game_logs=False)"
   ]
  },
  {
   "cell_type": "markdown",
   "metadata": {},
   "source": []
  },
  {
   "cell_type": "markdown",
   "metadata": {},
   "source": [
    "# Data Exploration\n",
    "\n",
    "Let's explore the collected data to make sure it looks good."
   ]
  },
  {
   "cell_type": "code",
   "execution_count": 4,
   "metadata": {},
   "outputs": [
    {
     "name": "stdout",
     "output_type": "stream",
     "text": [
      "Found 30 files in the raw data directory:\n",
      " - years_2017_opp.htm.html\n",
      " - years_2020_fantasy.htm.html\n",
      " - years_2021_opp.htm.html\n",
      " - years_2015_fantasy.htm.html\n",
      " - years_2016_opp.htm.html\n",
      " - years_2024_fantasy.htm.html\n",
      " - years_2020_opp.htm.html\n",
      " - years_2021_fantasy.htm.html\n",
      " - years_2017.html\n",
      " - years_2021.html\n",
      " - years_2020.html\n",
      " - years_2016.html\n",
      " - years_2015.html\n",
      " - years_2017_fantasy.htm.html\n",
      " - years_2019.html\n",
      " - years_2022_fantasy.htm.html\n",
      " - years_2023.html\n",
      " - years_2018_opp.htm.html\n",
      " - years_2022.html\n",
      " - years_2018_fantasy.htm.html\n",
      " - years_2018.html\n",
      " - years_2019_opp.htm.html\n",
      " - years_2016_fantasy.htm.html\n",
      " - years_2022_opp.htm.html\n",
      " - years_2023_fantasy.htm.html\n",
      " - years_2019_fantasy.htm.html\n",
      " - years_2015_opp.htm.html\n",
      " - years_2024.html\n",
      " - years_2023_opp.htm.html\n",
      " - years_2024_opp.htm.html\n"
     ]
    }
   ],
   "source": [
    "# List the files in the raw data directory\n",
    "raw_files = os.listdir('../data/raw')\n",
    "print(f\"Found {len(raw_files)} files in the raw data directory:\")\n",
    "for file in raw_files:\n",
    "    print(f\" - {file}\")"
   ]
  },
  {
   "cell_type": "code",
   "execution_count": 5,
   "metadata": {},
   "outputs": [],
   "source": [
    "# Load and preview a player stats file\n",
    "player_files = [f for f in raw_files if 'player_stats' in f]\n",
    "if player_files:\n",
    "    latest_player_file = sorted(player_files)[-1]\n",
    "    print(f\"Loading {latest_player_file}...\")\n",
    "    \n",
    "    player_data = pd.read_csv(f'../data/raw/{latest_player_file}')\n",
    "    print(f\"Shape: {player_data.shape}\")\n",
    "    \n",
    "    # Display the first few rows\n",
    "    player_data.head()"
   ]
  },
  {
   "cell_type": "code",
   "execution_count": 6,
   "metadata": {},
   "outputs": [],
   "source": [
    "# Load and preview a team stats file\n",
    "team_files = [f for f in raw_files if 'team_stats' in f]\n",
    "if team_files:\n",
    "    latest_team_file = sorted(team_files)[-1]\n",
    "    print(f\"Loading {latest_team_file}...\")\n",
    "    \n",
    "    team_data = pd.read_csv(f'../data/raw/{latest_team_file}')\n",
    "    print(f\"Shape: {team_data.shape}\")\n",
    "    \n",
    "    # Display the first few rows\n",
    "    team_data.head()"
   ]
  },
  {
   "cell_type": "markdown",
   "metadata": {},
   "source": [
    "# Data Quality Check\n",
    "\n",
    "Let's check the quality of the collected data."
   ]
  },
  {
   "cell_type": "code",
   "execution_count": 7,
   "metadata": {},
   "outputs": [],
   "source": [
    "# Check for missing values in player data\n",
    "if 'player_data' in locals():\n",
    "    print(\"Missing values in player data:\")\n",
    "    print(player_data.isnull().sum())\n",
    "    \n",
    "    # Check data types\n",
    "    print(\"\\nData types in player data:\")\n",
    "    print(player_data.dtypes)\n",
    "    \n",
    "    # Check for duplicates\n",
    "    print(f\"\\nDuplicate rows in player data: {player_data.duplicated().sum()}\")"
   ]
  },
  {
   "cell_type": "code",
   "execution_count": 8,
   "metadata": {},
   "outputs": [],
   "source": [
    "# Check for missing values in team data\n",
    "if 'team_data' in locals():\n",
    "    print(\"Missing values in team data:\")\n",
    "    print(team_data.isnull().sum())\n",
    "    \n",
    "    # Check data types\n",
    "    print(\"\\nData types in team data:\")\n",
    "    print(team_data.dtypes)\n",
    "    \n",
    "    # Check for duplicates\n",
    "    print(f\"\\nDuplicate rows in team data: {team_data.duplicated().sum()}\")"
   ]
  }
 ],
 "metadata": {
  "kernelspec": {
   "display_name": "Python 3",
   "language": "python",
   "name": "python3"
  },
  "language_info": {
   "codemirror_mode": {
    "name": "ipython",
    "version": 3
   },
   "file_extension": ".py",
   "mimetype": "text/x-python",
   "name": "python",
   "nbconvert_exporter": "python",
   "pygments_lexer": "ipython3",
   "version": "3.13.3"
  }
 },
 "nbformat": 4,
 "nbformat_minor": 2
}
