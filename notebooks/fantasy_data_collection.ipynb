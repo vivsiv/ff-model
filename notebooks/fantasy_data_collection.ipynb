{
 "cells": [
  {
   "cell_type": "markdown",
   "metadata": {},
   "source": [
    "# Data Collection\n",
    "\n",
    "Let's use the ProFootballReferenceScraper to collect NFL player and team statistics."
   ]
  },
  {
   "cell_type": "code",
   "execution_count": 1,
   "metadata": {},
   "outputs": [
    {
     "name": "stderr",
     "output_type": "stream",
     "text": [
      "Scraping years:   0%|          | 0/2 [00:00<?, ?it/s]2025-06-09 23:09:28,290 - src.scraper - INFO - scrape_years - Scraping data from 2023\n",
      "2025-06-09 23:09:28,290 - src.scraper - INFO - _get_soup - Using existing html file ../data/html/2023_player_fantasy_stats.html\n",
      "2025-06-09 23:09:28,510 - src.scraper - INFO - scrape_html_table - Adjusted headers from 43 to 33\n",
      "2025-06-09 23:09:28,516 - src.scraper - INFO - scrape_player_fantasy_stats - Saved fantasy stats for 2023 to ../data/bronze/2023_player_fantasy_stats.csv\n",
      "2025-06-09 23:09:32,258 - src.scraper - INFO - _get_soup - Requesting https://www.pro-football-reference.com/years/2023/passing_advanced.htm\n",
      "2025-06-09 23:09:32,527 - src.scraper - INFO - scrape_html_table - Adjusted headers from 50 to 42\n",
      "2025-06-09 23:09:32,530 - src.scraper - INFO - scrape_player_offensive_stats - Saved passing stats for 2023 to ../data/bronze/2023_passing_stats.csv\n",
      "2025-06-09 23:09:36,385 - src.scraper - INFO - _get_soup - Requesting https://www.pro-football-reference.com/years/2023/rushing_advanced.htm\n",
      "2025-06-09 23:09:36,577 - src.scraper - INFO - scrape_html_table - Adjusted headers from 20 to 17\n",
      "2025-06-09 23:09:36,579 - src.scraper - INFO - scrape_player_offensive_stats - Saved rushing stats for 2023 to ../data/bronze/2023_rushing_stats.csv\n",
      "2025-06-09 23:09:40,980 - src.scraper - INFO - _get_soup - Requesting https://www.pro-football-reference.com/years/2023/receiving_advanced.htm\n",
      "2025-06-09 23:09:41,423 - src.scraper - INFO - scrape_html_table - Adjusted headers from 26 to 23\n",
      "2025-06-09 23:09:41,426 - src.scraper - INFO - scrape_player_offensive_stats - Saved receiving stats for 2023 to ../data/bronze/2023_receiving_stats.csv\n",
      "2025-06-09 23:09:45,287 - src.scraper - INFO - _get_soup - Requesting https://www.pro-football-reference.com/years/2023/#team_stats\n",
      "2025-06-09 23:09:45,460 - src.scraper - INFO - scrape_html_table - Found table 'team_stats' inside HTML comment for year 2023\n",
      "2025-06-09 23:09:45,462 - src.scraper - INFO - scrape_html_table - Adjusted headers from 40 to 28\n",
      "2025-06-09 23:09:45,463 - src.scraper - INFO - scrape_team_offensive_stats - Saved team offense stats for 2023 to ../data/bronze/2023_team_offense.csv\n",
      "2025-06-09 23:09:45,463 - src.scraper - INFO - scrape_years - Completed scraping data from 2023\n",
      "Scraping years:  50%|█████     | 1/2 [00:17<00:17, 17.17s/it]2025-06-09 23:09:45,464 - src.scraper - INFO - scrape_years - Scraping data from 2024\n",
      "2025-06-09 23:09:49,059 - src.scraper - INFO - _get_soup - Requesting https://www.pro-football-reference.com/years/2024/fantasy.htm\n",
      "2025-06-09 23:09:49,389 - src.scraper - INFO - scrape_html_table - Adjusted headers from 43 to 33\n",
      "2025-06-09 23:09:49,392 - src.scraper - INFO - scrape_player_fantasy_stats - Saved fantasy stats for 2024 to ../data/bronze/2024_player_fantasy_stats.csv\n",
      "2025-06-09 23:09:53,550 - src.scraper - INFO - _get_soup - Requesting https://www.pro-football-reference.com/years/2024/passing_advanced.htm\n",
      "2025-06-09 23:09:53,750 - src.scraper - INFO - scrape_html_table - Adjusted headers from 50 to 42\n",
      "2025-06-09 23:09:53,752 - src.scraper - INFO - scrape_player_offensive_stats - Saved passing stats for 2024 to ../data/bronze/2024_passing_stats.csv\n",
      "2025-06-09 23:09:57,649 - src.scraper - INFO - _get_soup - Requesting https://www.pro-football-reference.com/years/2024/rushing_advanced.htm\n",
      "2025-06-09 23:09:57,812 - src.scraper - INFO - scrape_html_table - Adjusted headers from 20 to 17\n",
      "2025-06-09 23:09:57,814 - src.scraper - INFO - scrape_player_offensive_stats - Saved rushing stats for 2024 to ../data/bronze/2024_rushing_stats.csv\n",
      "2025-06-09 23:10:01,812 - src.scraper - INFO - _get_soup - Requesting https://www.pro-football-reference.com/years/2024/receiving_advanced.htm\n",
      "2025-06-09 23:10:02,114 - src.scraper - INFO - scrape_html_table - Adjusted headers from 26 to 23\n",
      "2025-06-09 23:10:02,116 - src.scraper - INFO - scrape_player_offensive_stats - Saved receiving stats for 2024 to ../data/bronze/2024_receiving_stats.csv\n",
      "2025-06-09 23:10:06,287 - src.scraper - INFO - _get_soup - Requesting https://www.pro-football-reference.com/years/2024/#team_stats\n",
      "2025-06-09 23:10:06,429 - src.scraper - INFO - scrape_html_table - Found table 'team_stats' inside HTML comment for year 2024\n",
      "2025-06-09 23:10:06,431 - src.scraper - INFO - scrape_html_table - Adjusted headers from 40 to 28\n",
      "2025-06-09 23:10:06,432 - src.scraper - INFO - scrape_team_offensive_stats - Saved team offense stats for 2024 to ../data/bronze/2024_team_offense.csv\n",
      "2025-06-09 23:10:06,432 - src.scraper - INFO - scrape_years - Completed scraping data from 2024\n",
      "Scraping years: 100%|██████████| 2/2 [00:38<00:00, 19.07s/it]\n"
     ]
    }
   ],
   "source": [
    "import sys\n",
    "sys.path.append('../')\n",
    "from src.scraper import ProFootballReferenceScraper\n",
    "\n",
    "pfr = ProFootballReferenceScraper(data_dir=\"../data\")\n",
    "pfr.scrape_years(start_year=2023, end_year=2024)"
   ]
  },
  {
   "cell_type": "markdown",
   "metadata": {},
   "source": []
  },
  {
   "cell_type": "markdown",
   "metadata": {},
   "source": [
    "# Data Processing\n",
    "\n",
    "Build the silver layer from the scraped data"
   ]
  },
  {
   "cell_type": "code",
   "execution_count": 1,
   "metadata": {},
   "outputs": [
    {
     "name": "stderr",
     "output_type": "stream",
     "text": [
      "Processing files matching: ../data/bronze/*_player_fantasy_stats.csv: 100%|██████████| 2/2 [00:00<00:00, 233.43it/s]\n",
      "2025-06-18 23:23:40,200 - src.processor - INFO - Saved player_fantasy_stats.csv to ../data/silver/player_fantasy_stats.csv\n"
     ]
    }
   ],
   "source": [
    "import sys\n",
    "sys.path.append('../')\n",
    "from src.processor import FantasyDataProcessor\n",
    "\n",
    "processor = FantasyDataProcessor(data_dir=\"../data\")\n",
    "processor.build_player_fantasy_stats()\n",
    "#processor.build_player_receiving_stats()\n",
    "#processor.build_player_rushing_stats()\n",
    "#processor.build_player_passing_stats()\n",
    "#processor.build_team_stats()"
   ]
  },
  {
   "cell_type": "code",
   "execution_count": 5,
   "metadata": {},
   "outputs": [],
   "source": [
    "# Load and preview a player stats file\n",
    "player_files = [f for f in raw_files if 'player_stats' in f]\n",
    "if player_files:\n",
    "    latest_player_file = sorted(player_files)[-1]\n",
    "    print(f\"Loading {latest_player_file}...\")\n",
    "    \n",
    "    player_data = pd.read_csv(f'../data/raw/{latest_player_file}')\n",
    "    print(f\"Shape: {player_data.shape}\")\n",
    "    \n",
    "    # Display the first few rows\n",
    "    player_data.head()"
   ]
  },
  {
   "cell_type": "code",
   "execution_count": 6,
   "metadata": {},
   "outputs": [],
   "source": [
    "# Load and preview a team stats file\n",
    "team_files = [f for f in raw_files if 'team_stats' in f]\n",
    "if team_files:\n",
    "    latest_team_file = sorted(team_files)[-1]\n",
    "    print(f\"Loading {latest_team_file}...\")\n",
    "    \n",
    "    team_data = pd.read_csv(f'../data/raw/{latest_team_file}')\n",
    "    print(f\"Shape: {team_data.shape}\")\n",
    "    \n",
    "    # Display the first few rows\n",
    "    team_data.head()"
   ]
  },
  {
   "cell_type": "markdown",
   "metadata": {},
   "source": [
    "# Data Quality Check\n",
    "\n",
    "Let's check the quality of the collected data."
   ]
  },
  {
   "cell_type": "code",
   "execution_count": 7,
   "metadata": {},
   "outputs": [],
   "source": [
    "# Check for missing values in player data\n",
    "if 'player_data' in locals():\n",
    "    print(\"Missing values in player data:\")\n",
    "    print(player_data.isnull().sum())\n",
    "    \n",
    "    # Check data types\n",
    "    print(\"\\nData types in player data:\")\n",
    "    print(player_data.dtypes)\n",
    "    \n",
    "    # Check for duplicates\n",
    "    print(f\"\\nDuplicate rows in player data: {player_data.duplicated().sum()}\")"
   ]
  },
  {
   "cell_type": "code",
   "execution_count": 8,
   "metadata": {},
   "outputs": [],
   "source": [
    "# Check for missing values in team data\n",
    "if 'team_data' in locals():\n",
    "    print(\"Missing values in team data:\")\n",
    "    print(team_data.isnull().sum())\n",
    "    \n",
    "    # Check data types\n",
    "    print(\"\\nData types in team data:\")\n",
    "    print(team_data.dtypes)\n",
    "    \n",
    "    # Check for duplicates\n",
    "    print(f\"\\nDuplicate rows in team data: {team_data.duplicated().sum()}\")"
   ]
  }
 ],
 "metadata": {
  "kernelspec": {
   "display_name": "Python 3",
   "language": "python",
   "name": "python3"
  },
  "language_info": {
   "codemirror_mode": {
    "name": "ipython",
    "version": 3
   },
   "file_extension": ".py",
   "mimetype": "text/x-python",
   "name": "python",
   "nbconvert_exporter": "python",
   "pygments_lexer": "ipython3",
   "version": "3.13.3"
  }
 },
 "nbformat": 4,
 "nbformat_minor": 2
}
