{
 "cells": [
  {
   "cell_type": "code",
   "execution_count": 1,
   "metadata": {},
   "outputs": [],
   "source": [
    "import mlflow\n",
    "import os\n",
    "import pandas as pd\n",
    "import sys\n",
    "\n",
    "sys.path.append('../')"
   ]
  },
  {
   "cell_type": "markdown",
   "metadata": {},
   "source": [
    "# Data Collection\n",
    "\n",
    "- Scrape 20 years of data from pro football reference"
   ]
  },
  {
   "cell_type": "code",
   "execution_count": null,
   "metadata": {},
   "outputs": [],
   "source": [
    "from src.scraper import ProFootballReferenceScraper\n",
    "\n",
    "scraper = ProFootballReferenceScraper(data_dir=\"../data\")\n",
    "scraper.scrape_years(start_year=1999, end_year=2024)"
   ]
  },
  {
   "cell_type": "markdown",
   "metadata": {},
   "source": [
    "# Data Processing\n",
    "\n",
    "- Combine the stat tables for all years and save them to the silver layer\n",
    "- Build the gold table from the different stat tables"
   ]
  },
  {
   "cell_type": "code",
   "execution_count": null,
   "metadata": {},
   "outputs": [],
   "source": [
    "from src.processor import DataProcessor\n",
    "\n",
    "processor = DataProcessor(data_dir=\"../data\")\n",
    "processor.process_all_data()"
   ]
  },
  {
   "cell_type": "markdown",
   "metadata": {},
   "source": [
    "## Data Analysis \n",
    "\n",
    "- Do some data quality checks on the final stats\n",
    "- Look at which features are the most and least informative"
   ]
  },
  {
   "cell_type": "code",
   "execution_count": 2,
   "metadata": {},
   "outputs": [
    {
     "name": "stderr",
     "output_type": "stream",
     "text": [
      "2025-07-30 19:39:37,503 - src.analysis - INFO - Loaded training data: 9431 rows\n",
      "2025-07-30 19:39:37,510 - src.analysis - INFO - Loaded live data: 374 rows\n"
     ]
    }
   ],
   "source": [
    "from src.analysis import DataAnalysis\n",
    "\n",
    "analysis = DataAnalysis()"
   ]
  },
  {
   "cell_type": "code",
   "execution_count": 3,
   "metadata": {},
   "outputs": [],
   "source": [
    "analysis.run_training_data_quality_checks()\n",
    "analysis.run_live_data_quality_checks()"
   ]
  },
  {
   "cell_type": "code",
   "execution_count": null,
   "metadata": {},
   "outputs": [],
   "source": [
    "\n",
    "analysis.generate_feature_analysis()"
   ]
  },
  {
   "cell_type": "markdown",
   "metadata": {},
   "source": [
    "## Modelling\n",
    "\n",
    "- Start with linear regression\n",
    "- Become more advanced\n",
    "- Forward, Backward, Feature Selection\n",
    "- Models per target"
   ]
  },
  {
   "cell_type": "code",
   "execution_count": 2,
   "metadata": {},
   "outputs": [
    {
     "name": "stderr",
     "output_type": "stream",
     "text": [
      "2025-07-30 19:55:52,848 - src.modelling - INFO - Loaded training data: 9431 rows\n",
      "2025-07-30 19:55:52,853 - src.modelling - INFO - Loaded live data: 374 rows\n"
     ]
    }
   ],
   "source": [
    "from src.modelling import FantasyModel\n",
    "\n",
    "model = FantasyModel(data_dir=\"../data\", target_col=\"ppr_fantasy_points_per_game\")\n",
    "# model = FantasyModel(data_dir=\"../data\", target_col=\"standard_fantasy_points_per_game\")"
   ]
  },
  {
   "cell_type": "code",
   "execution_count": 3,
   "metadata": {},
   "outputs": [],
   "source": [
    "\n",
    "data = model.split_data()"
   ]
  },
  {
   "cell_type": "code",
   "execution_count": 6,
   "metadata": {},
   "outputs": [
    {
     "name": "stderr",
     "output_type": "stream",
     "text": [
      "2025/07/30 19:40:40 INFO mlflow.tracking.fluent: Experiment with name 'ppr_fantasy_points_per_game' does not exist. Creating a new experiment.\n"
     ]
    },
    {
     "data": {
      "text/html": [
       "<div>\n",
       "<style scoped>\n",
       "    .dataframe tbody tr th:only-of-type {\n",
       "        vertical-align: middle;\n",
       "    }\n",
       "\n",
       "    .dataframe tbody tr th {\n",
       "        vertical-align: top;\n",
       "    }\n",
       "\n",
       "    .dataframe thead th {\n",
       "        text-align: right;\n",
       "    }\n",
       "</style>\n",
       "<table border=\"1\" class=\"dataframe\">\n",
       "  <thead>\n",
       "    <tr style=\"text-align: right;\">\n",
       "      <th></th>\n",
       "      <th>param_model</th>\n",
       "      <th>mean_test_r2</th>\n",
       "      <th>mean_test_rmse</th>\n",
       "      <th>std_test_r2</th>\n",
       "    </tr>\n",
       "  </thead>\n",
       "  <tbody>\n",
       "    <tr>\n",
       "      <th>1</th>\n",
       "      <td>Ridge()</td>\n",
       "      <td>0.584414</td>\n",
       "      <td>-3.694920</td>\n",
       "      <td>0.022259</td>\n",
       "    </tr>\n",
       "    <tr>\n",
       "      <th>0</th>\n",
       "      <td>LinearRegression()</td>\n",
       "      <td>0.579847</td>\n",
       "      <td>-3.715279</td>\n",
       "      <td>0.021968</td>\n",
       "    </tr>\n",
       "    <tr>\n",
       "      <th>3</th>\n",
       "      <td>RandomForestRegressor()</td>\n",
       "      <td>0.577159</td>\n",
       "      <td>-3.727369</td>\n",
       "      <td>0.021417</td>\n",
       "    </tr>\n",
       "    <tr>\n",
       "      <th>5</th>\n",
       "      <td>HistGradientBoostingRegressor()</td>\n",
       "      <td>0.573703</td>\n",
       "      <td>-3.741997</td>\n",
       "      <td>0.024334</td>\n",
       "    </tr>\n",
       "    <tr>\n",
       "      <th>4</th>\n",
       "      <td>SVR()</td>\n",
       "      <td>0.561753</td>\n",
       "      <td>-3.794068</td>\n",
       "      <td>0.024292</td>\n",
       "    </tr>\n",
       "    <tr>\n",
       "      <th>2</th>\n",
       "      <td>Lasso()</td>\n",
       "      <td>0.439427</td>\n",
       "      <td>-4.293155</td>\n",
       "      <td>0.014534</td>\n",
       "    </tr>\n",
       "  </tbody>\n",
       "</table>\n",
       "</div>"
      ],
      "text/plain": [
       "                       param_model  mean_test_r2  mean_test_rmse  std_test_r2\n",
       "1                          Ridge()      0.584414       -3.694920     0.022259\n",
       "0               LinearRegression()      0.579847       -3.715279     0.021968\n",
       "3          RandomForestRegressor()      0.577159       -3.727369     0.021417\n",
       "5  HistGradientBoostingRegressor()      0.573703       -3.741997     0.024334\n",
       "4                            SVR()      0.561753       -3.794068     0.024292\n",
       "2                          Lasso()      0.439427       -4.293155     0.014534"
      ]
     },
     "metadata": {},
     "output_type": "display_data"
    }
   ],
   "source": [
    "model_eval_search = model.run_model_eval(data)\n",
    "\n",
    "model_eval_results_df = pd.DataFrame(model_eval_search.cv_results_)\n",
    "\n",
    "display(model_eval_results_df[['param_model', 'mean_test_r2', 'mean_test_rmse', 'std_test_r2']].sort_values(by='mean_test_r2', ascending=False))"
   ]
  },
  {
   "cell_type": "code",
   "execution_count": 7,
   "metadata": {},
   "outputs": [
    {
     "name": "stderr",
     "output_type": "stream",
     "text": [
      "Successfully registered model 'ppr_fantasy_points_per_game_ridge'.\n",
      "Created version '1' of model 'ppr_fantasy_points_per_game_ridge'.\n"
     ]
    },
    {
     "data": {
      "text/html": [
       "<div>\n",
       "<style scoped>\n",
       "    .dataframe tbody tr th:only-of-type {\n",
       "        vertical-align: middle;\n",
       "    }\n",
       "\n",
       "    .dataframe tbody tr th {\n",
       "        vertical-align: top;\n",
       "    }\n",
       "\n",
       "    .dataframe thead th {\n",
       "        text-align: right;\n",
       "    }\n",
       "</style>\n",
       "<table border=\"1\" class=\"dataframe\">\n",
       "  <thead>\n",
       "    <tr style=\"text-align: right;\">\n",
       "      <th></th>\n",
       "      <th>param_model__alpha</th>\n",
       "      <th>mean_test_r2</th>\n",
       "      <th>mean_test_rmse</th>\n",
       "      <th>std_test_r2</th>\n",
       "    </tr>\n",
       "  </thead>\n",
       "  <tbody>\n",
       "    <tr>\n",
       "      <th>7</th>\n",
       "      <td>166.810054</td>\n",
       "      <td>0.591360</td>\n",
       "      <td>-3.663744</td>\n",
       "      <td>0.022616</td>\n",
       "    </tr>\n",
       "    <tr>\n",
       "      <th>8</th>\n",
       "      <td>1291.549665</td>\n",
       "      <td>0.589934</td>\n",
       "      <td>-3.670037</td>\n",
       "      <td>0.023319</td>\n",
       "    </tr>\n",
       "    <tr>\n",
       "      <th>6</th>\n",
       "      <td>21.544347</td>\n",
       "      <td>0.589337</td>\n",
       "      <td>-3.672794</td>\n",
       "      <td>0.022820</td>\n",
       "    </tr>\n",
       "    <tr>\n",
       "      <th>5</th>\n",
       "      <td>2.782559</td>\n",
       "      <td>0.586115</td>\n",
       "      <td>-3.687300</td>\n",
       "      <td>0.022453</td>\n",
       "    </tr>\n",
       "    <tr>\n",
       "      <th>4</th>\n",
       "      <td>0.359381</td>\n",
       "      <td>0.582968</td>\n",
       "      <td>-3.701371</td>\n",
       "      <td>0.022181</td>\n",
       "    </tr>\n",
       "    <tr>\n",
       "      <th>3</th>\n",
       "      <td>0.046416</td>\n",
       "      <td>0.581095</td>\n",
       "      <td>-3.709679</td>\n",
       "      <td>0.022300</td>\n",
       "    </tr>\n",
       "    <tr>\n",
       "      <th>2</th>\n",
       "      <td>0.005995</td>\n",
       "      <td>0.580401</td>\n",
       "      <td>-3.712755</td>\n",
       "      <td>0.022341</td>\n",
       "    </tr>\n",
       "    <tr>\n",
       "      <th>1</th>\n",
       "      <td>0.000774</td>\n",
       "      <td>0.580113</td>\n",
       "      <td>-3.714056</td>\n",
       "      <td>0.022228</td>\n",
       "    </tr>\n",
       "    <tr>\n",
       "      <th>0</th>\n",
       "      <td>0.000100</td>\n",
       "      <td>0.579887</td>\n",
       "      <td>-3.715085</td>\n",
       "      <td>0.022088</td>\n",
       "    </tr>\n",
       "    <tr>\n",
       "      <th>9</th>\n",
       "      <td>10000.000000</td>\n",
       "      <td>0.573754</td>\n",
       "      <td>-3.741577</td>\n",
       "      <td>0.024944</td>\n",
       "    </tr>\n",
       "  </tbody>\n",
       "</table>\n",
       "</div>"
      ],
      "text/plain": [
       "   param_model__alpha  mean_test_r2  mean_test_rmse  std_test_r2\n",
       "7          166.810054      0.591360       -3.663744     0.022616\n",
       "8         1291.549665      0.589934       -3.670037     0.023319\n",
       "6           21.544347      0.589337       -3.672794     0.022820\n",
       "5            2.782559      0.586115       -3.687300     0.022453\n",
       "4            0.359381      0.582968       -3.701371     0.022181\n",
       "3            0.046416      0.581095       -3.709679     0.022300\n",
       "2            0.005995      0.580401       -3.712755     0.022341\n",
       "1            0.000774      0.580113       -3.714056     0.022228\n",
       "0            0.000100      0.579887       -3.715085     0.022088\n",
       "9        10000.000000      0.573754       -3.741577     0.024944"
      ]
     },
     "metadata": {},
     "output_type": "display_data"
    }
   ],
   "source": [
    "ridge_eval_search = model.run_model_tuning(data, \"ridge\")\n",
    "\n",
    "ridge_eval_results_df = pd.DataFrame(ridge_eval_search.cv_results_)\n",
    "\n",
    "display(\n",
    "    ridge_eval_results_df[['param_model__alpha', 'mean_test_r2', 'mean_test_rmse', 'std_test_r2']]\n",
    "    .sort_values(by=['mean_test_r2', 'mean_test_rmse'], ascending=[False, True])\n",
    ")"
   ]
  },
  {
   "cell_type": "code",
   "execution_count": null,
   "metadata": {},
   "outputs": [],
   "source": [
    "random_forest_eval_search = model.run_model_tuning(data, \"random_forest\")\n",
    "\n",
    "random_forest_eval_results_df = pd.DataFrame(random_forest_eval_search.cv_results_)\n",
    "\n",
    "display(\n",
    "    ridge_eval_results_df[['param_model__n_estimators', 'param_model__max_depth' 'mean_test_r2', 'mean_test_rmse', 'std_test_r2']]\n",
    "    .sort_values(by=['mean_test_r2', 'mean_test_rmse'], ascending=[False, True])\n",
    ")"
   ]
  },
  {
   "cell_type": "code",
   "execution_count": null,
   "metadata": {},
   "outputs": [],
   "source": [
    "svr_eval_search = model.run_model_tuning(data, \"svr\")\n",
    "\n",
    "svr_eval_results_df = pd.DataFrame(svr_eval_search.cv_results_)\n",
    "\n",
    "display(\n",
    "    ridge_eval_results_df[['param_model__C', 'param_model__kernel', 'param_model__gamma', 'mean_test_r2', 'mean_test_rmse', 'std_test_r2']]\n",
    "    .sort_values(by=['mean_test_r2', 'mean_test_rmse'], ascending=[False, True])\n",
    ")"
   ]
  },
  {
   "cell_type": "markdown",
   "metadata": {},
   "source": [
    "## Final Predictions!"
   ]
  },
  {
   "cell_type": "markdown",
   "metadata": {},
   "source": [
    "#### First on the test set"
   ]
  },
  {
   "cell_type": "code",
   "execution_count": 4,
   "metadata": {},
   "outputs": [
    {
     "name": "stdout",
     "output_type": "stream",
     "text": [
      "R^2 score: 0.6443421370314563\n",
      "RMSE: 3.4813927470810007\n",
      "Predictions for ppr_fantasy_points_per_game in 2024:\n",
      "                        id  predictions  actual\n",
      "2446      tyreek_hill_2024    20.947287   12.84\n",
      "2420      jalen_hurts_2024    20.871811   21.01\n",
      "2453  patrick_mahomes_2024    20.375811   17.69\n",
      "2484     dak_prescott_2024    18.652807   14.56\n",
      "2458        cj_stroud_2024    18.405447   12.96\n",
      "2392     jamarr_chase_2024    17.358314   23.71\n",
      "2485     keenan_allen_2024    17.116867   12.29\n",
      "2611    brandon_aiyuk_2024    15.202578    8.91\n",
      "2543     stefon_diggs_2024    15.027564   15.24\n",
      "2465       derek_carr_2024    13.916413   15.09\n"
     ]
    },
    {
     "name": "stderr",
     "output_type": "stream",
     "text": [
      "/Users/viveksivakumar/Code/ff-model/notebooks/../src/modelling.py:244: FutureWarning: ``mlflow.tracking.client.MlflowClient.get_latest_versions`` is deprecated since 2.9.0. Model registry stages will be removed in a future major release. To learn more about the deprecation of model registry stages, see our migration guide here: https://mlflow.org/docs/latest/model-registry.html#migrating-from-stages\n",
      "  latest_version = client.get_latest_versions(f\"{self.target_col}_{model_type}\", stages=[\"None\"])[0].version\n"
     ]
    }
   ],
   "source": [
    "test_preds_df = model.make_test_predictions(data, \"ridge\")\n",
    "\n",
    "view_year = 2024\n",
    "year_test_preds = model.view_year_test_predictions(test_preds_df, view_year)\n",
    "year_test_preds.to_csv(os.path.join(model.predictions_dir, f\"{model.target_col}_{view_year}_predictions.csv\"), index=False)\n",
    "\n",
    "print(f\"Predictions for {model.target_col} in {view_year}:\")\n",
    "print(year_test_preds.head(10))"
   ]
  },
  {
   "cell_type": "markdown",
   "metadata": {},
   "source": [
    "#### Now for 2025"
   ]
  },
  {
   "cell_type": "code",
   "execution_count": 5,
   "metadata": {},
   "outputs": [
    {
     "name": "stdout",
     "output_type": "stream",
     "text": [
      "Live predictions for ppr_fantasy_points_per_game:\n",
      "    predictions            player position\n",
      "24    23.657430     lamar_jackson       qb\n",
      "22    22.577369        josh_allen       qb\n",
      "29    21.890221    jayden_daniels       qb\n",
      "0     20.867830      jamarr_chase       wr\n",
      "43    19.903659        joe_burrow       qb\n",
      "36    19.709070       jalen_hurts       qb\n",
      "3     19.246498  justin_jefferson       wr\n",
      "67    18.903988            bo_nix       qb\n",
      "58    18.495768   patrick_mahomes       qb\n",
      "8     18.356523  amon_ra_st_brown       wr\n"
     ]
    },
    {
     "name": "stderr",
     "output_type": "stream",
     "text": [
      "/Users/viveksivakumar/Code/ff-model/notebooks/../src/modelling.py:244: FutureWarning: ``mlflow.tracking.client.MlflowClient.get_latest_versions`` is deprecated since 2.9.0. Model registry stages will be removed in a future major release. To learn more about the deprecation of model registry stages, see our migration guide here: https://mlflow.org/docs/latest/model-registry.html#migrating-from-stages\n",
      "  latest_version = client.get_latest_versions(f\"{self.target_col}_{model_type}\", stages=[\"None\"])[0].version\n"
     ]
    }
   ],
   "source": [
    "live_preds_df = model.make_live_predictions(data, \"ridge\")\n",
    "\n",
    "live_preds_df.to_csv(os.path.join(model.predictions_dir, f\"{model.target_col}_live_predictions.csv\"), index=False)\n",
    "\n",
    "print(f\"Live predictions for {model.target_col}:\")\n",
    "print(live_preds_df.head(10))"
   ]
  }
 ],
 "metadata": {
  "kernelspec": {
   "display_name": "base",
   "language": "python",
   "name": "python3"
  },
  "language_info": {
   "codemirror_mode": {
    "name": "ipython",
    "version": 3
   },
   "file_extension": ".py",
   "mimetype": "text/x-python",
   "name": "python",
   "nbconvert_exporter": "python",
   "pygments_lexer": "ipython3",
   "version": "3.12.9"
  }
 },
 "nbformat": 4,
 "nbformat_minor": 2
}
